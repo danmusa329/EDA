{
 "cells": [
  {
   "cell_type": "code",
   "execution_count": 0,
   "metadata": {
    "application/vnd.databricks.v1+cell": {
     "cellMetadata": {
      "byteLimit": 2048000,
      "rowLimit": 10000
     },
     "inputWidgets": {},
     "nuid": "526aeacc-dfa2-4396-b996-93746a2ecf1c",
     "showTitle": false,
     "title": ""
    }
   },
   "outputs": [
    {
     "output_type": "stream",
     "name": "stdout",
     "output_type": "stream",
     "text": [
      "Out[1]: [FileInfo(path='dbfs:/FileStore/tables/Occupancy_Detection_Data.csv', name='Occupancy_Detection_Data.csv', size=50968, modificationTime=1709126857000),\n FileInfo(path='dbfs:/FileStore/tables/account-models/', name='account-models/', size=0, modificationTime=0),\n FileInfo(path='dbfs:/FileStore/tables/accounts/', name='accounts/', size=0, modificationTime=0),\n FileInfo(path='dbfs:/FileStore/tables/accounts.zip', name='accounts.zip', size=5297592, modificationTime=1706710326000),\n FileInfo(path='dbfs:/FileStore/tables/activations/', name='activations/', size=0, modificationTime=0),\n FileInfo(path='dbfs:/FileStore/tables/activations.zip', name='activations.zip', size=8411369, modificationTime=1706707446000),\n FileInfo(path='dbfs:/FileStore/tables/clinicaltrial_2021/', name='clinicaltrial_2021/', size=0, modificationTime=0),\n FileInfo(path='dbfs:/FileStore/tables/clinicaltrial_2021.csv', name='clinicaltrial_2021.csv', size=50359696, modificationTime=1712533828000),\n FileInfo(path='dbfs:/FileStore/tables/clinicaltrial_2021.zip', name='clinicaltrial_2021.zip', size=11508457, modificationTime=1712100054000),\n FileInfo(path='dbfs:/FileStore/tables/clinicaltrial_2023/', name='clinicaltrial_2023/', size=0, modificationTime=0),\n FileInfo(path='dbfs:/FileStore/tables/clinicaltrial_2023.csv', name='clinicaltrial_2023.csv', size=292436366, modificationTime=1713855206000),\n FileInfo(path='dbfs:/FileStore/tables/clinicaltrial_2023.zip', name='clinicaltrial_2023.zip', size=57166668, modificationTime=1711982596000),\n FileInfo(path='dbfs:/FileStore/tables/iostream/', name='iostream/', size=0, modificationTime=0),\n FileInfo(path='dbfs:/FileStore/tables/iotstream/', name='iotstream/', size=0, modificationTime=0),\n FileInfo(path='dbfs:/FileStore/tables/iotstream-1.zip', name='iotstream-1.zip', size=43891, modificationTime=1708526085000),\n FileInfo(path='dbfs:/FileStore/tables/iotstream.zip', name='iotstream.zip', size=43891, modificationTime=1708525856000),\n FileInfo(path='dbfs:/FileStore/tables/logs/', name='logs/', size=0, modificationTime=0),\n FileInfo(path='dbfs:/FileStore/tables/logs.zip', name='logs.zip', size=18168065, modificationTime=1706710329000),\n FileInfo(path='dbfs:/FileStore/tables/movies.csv', name='movies.csv', size=494431, modificationTime=1709733395000),\n FileInfo(path='dbfs:/FileStore/tables/myratings.csv', name='myratings.csv', size=10683, modificationTime=1709734356000),\n FileInfo(path='dbfs:/FileStore/tables/myratings_1_.csv', name='myratings_1_.csv', size=10683, modificationTime=1709733482000),\n FileInfo(path='dbfs:/FileStore/tables/pharma/', name='pharma/', size=0, modificationTime=0),\n FileInfo(path='dbfs:/FileStore/tables/pharma.csv', name='pharma.csv', size=678999, modificationTime=1713855209000),\n FileInfo(path='dbfs:/FileStore/tables/pharma.zip', name='pharma.zip', size=109982, modificationTime=1711662953000),\n FileInfo(path='dbfs:/FileStore/tables/ratings.csv', name='ratings.csv', size=2483723, modificationTime=1709733396000),\n FileInfo(path='dbfs:/FileStore/tables/steam_200k.csv', name='steam_200k.csv', size=8059447, modificationTime=1710453845000),\n FileInfo(path='dbfs:/FileStore/tables/test.json', name='test.json', size=17958, modificationTime=1706102749000),\n FileInfo(path='dbfs:/FileStore/tables/webpage/', name='webpage/', size=0, modificationTime=0),\n FileInfo(path='dbfs:/FileStore/tables/webpage.zip', name='webpage.zip', size=1582, modificationTime=1707313163000)]"
     ]
    }
   ],
   "source": [
    "dbutils.fs.ls(\"/FileStore/tables\")"
   ]
  },
  {
   "cell_type": "code",
   "execution_count": 0,
   "metadata": {
    "application/vnd.databricks.v1+cell": {
     "cellMetadata": {
      "byteLimit": 2048000,
      "rowLimit": 10000
     },
     "inputWidgets": {},
     "nuid": "63c0e0aa-c315-49b8-b5ce-8f0f0a4f3f06",
     "showTitle": false,
     "title": ""
    }
   },
   "outputs": [],
   "source": [
    "# variable declaration\n",
    "\n",
    "clinicaltrial_2023 = \"clinicaltrial_2023\"\n",
    "pharma = \"pharma\"\n"
   ]
  },
  {
   "cell_type": "code",
   "execution_count": 0,
   "metadata": {
    "application/vnd.databricks.v1+cell": {
     "cellMetadata": {
      "byteLimit": 2048000,
      "rowLimit": 10000
     },
     "inputWidgets": {},
     "nuid": "f13cb562-b014-471f-aa57-4c52976e0d73",
     "showTitle": false,
     "title": ""
    }
   },
   "outputs": [
    {
     "output_type": "stream",
     "name": "stdout",
     "output_type": "stream",
     "text": [
      "Out[3]: True"
     ]
    }
   ],
   "source": [
    "# copy to a temp folder\n",
    "\n",
    "dbutils.fs.cp(\"/FileStore/tables/\" + clinicaltrial_2023  + \".zip\", \"file:/tmp/\")\n",
    "dbutils.fs.cp(\"/FileStore/tables/\" + pharma + \".zip\", \"file:/tmp/\")"
   ]
  },
  {
   "cell_type": "code",
   "execution_count": 0,
   "metadata": {
    "application/vnd.databricks.v1+cell": {
     "cellMetadata": {
      "byteLimit": 2048000,
      "rowLimit": 10000
     },
     "inputWidgets": {},
     "nuid": "852d3247-d868-4b2c-a761-fa7788d45d50",
     "showTitle": false,
     "title": ""
    }
   },
   "outputs": [],
   "source": [
    "#  make variable accessible by the command line\n",
    "\n",
    "import os\n",
    "os.environ['clinicaltrial_2023'] = clinicaltrial_2023\n",
    "\n",
    "import os\n",
    "os.environ['pharma'] = pharma"
   ]
  },
  {
   "cell_type": "code",
   "execution_count": 0,
   "metadata": {
    "application/vnd.databricks.v1+cell": {
     "cellMetadata": {
      "byteLimit": 2048000,
      "rowLimit": 10000
     },
     "inputWidgets": {},
     "nuid": "030b6f5a-48bc-4b8f-af0b-faf9c4721a7d",
     "showTitle": false,
     "title": ""
    }
   },
   "outputs": [
    {
     "output_type": "stream",
     "name": "stdout",
     "output_type": "stream",
     "text": [
      "Rserv\nRtmpEHIQ2y\nchauffeur-daemon-params\nchauffeur-daemon.pid\nchauffeur-env.sh\nclinicaltrial_2023.zip\ncustom-spark.conf\ndriver-daemon-params\ndriver-daemon.pid\ndriver-env.sh\nhsperfdata_root\npharma.zip\npython_lsp_logs\nsystemd-private-48ef023e17a440a48b35032189520312-apache2.service-o9mbXh\nsystemd-private-48ef023e17a440a48b35032189520312-ntp.service-u7sIwh\nsystemd-private-48ef023e17a440a48b35032189520312-systemd-logind.service-8ktgoi\nsystemd-private-48ef023e17a440a48b35032189520312-systemd-resolved.service-F6mlti\ntmp.7G3GB2uONK\n"
     ]
    }
   ],
   "source": [
    "%sh\n",
    "\n",
    "ls /tmp"
   ]
  },
  {
   "cell_type": "code",
   "execution_count": 0,
   "metadata": {
    "application/vnd.databricks.v1+cell": {
     "cellMetadata": {
      "byteLimit": 2048000,
      "rowLimit": 10000
     },
     "inputWidgets": {},
     "nuid": "517486bd-b277-41e3-b2d6-655a16b3f1d3",
     "showTitle": false,
     "title": ""
    }
   },
   "outputs": [
    {
     "output_type": "stream",
     "name": "stdout",
     "output_type": "stream",
     "text": [
      "Archive:  /tmp/clinicaltrial_2023.zip\n  inflating: /tmp/clinicaltrial_2023.csv  \nArchive:  /tmp/pharma.zip\n  inflating: /tmp/pharma.csv         \n"
     ]
    }
   ],
   "source": [
    "\n",
    "%sh\n",
    "unzip -d /tmp/ /tmp/clinicaltrial_2023.zip\n",
    "unzip -d /tmp/ /tmp/pharma.zip\n"
   ]
  },
  {
   "cell_type": "code",
   "execution_count": 0,
   "metadata": {
    "application/vnd.databricks.v1+cell": {
     "cellMetadata": {
      "byteLimit": 2048000,
      "rowLimit": 10000
     },
     "inputWidgets": {},
     "nuid": "d8b3ed41-8acc-4441-aa1e-aa400f0f3bda",
     "showTitle": false,
     "title": ""
    }
   },
   "outputs": [
    {
     "output_type": "stream",
     "name": "stdout",
     "output_type": "stream",
     "text": [
      "/tmp/clinicaltrial_2023.csv\n/tmp/pharma.csv\n"
     ]
    }
   ],
   "source": [
    "%sh\n",
    "\n",
    "ls /tmp/$clinicaltrial_2023.csv\n",
    "ls /tmp/$pharma.csv"
   ]
  },
  {
   "cell_type": "code",
   "execution_count": 0,
   "metadata": {
    "application/vnd.databricks.v1+cell": {
     "cellMetadata": {
      "byteLimit": 2048000,
      "rowLimit": 10000
     },
     "inputWidgets": {},
     "nuid": "62e86178-6343-427c-be25-3d0a10c60ab9",
     "showTitle": false,
     "title": ""
    }
   },
   "outputs": [
    {
     "output_type": "stream",
     "name": "stdout",
     "output_type": "stream",
     "text": [
      "Out[8]: True"
     ]
    }
   ],
   "source": [
    "# making a new directory\n",
    "\n",
    "dbutils.fs.mkdirs(\"/FileStore/tables/\" + clinicaltrial_2023)\n",
    "dbutils.fs.mkdirs(\"/FileStore/tables/\" + pharma)"
   ]
  },
  {
   "cell_type": "code",
   "execution_count": 0,
   "metadata": {
    "application/vnd.databricks.v1+cell": {
     "cellMetadata": {
      "byteLimit": 2048000,
      "rowLimit": 10000
     },
     "inputWidgets": {},
     "nuid": "0dce9295-2911-4bac-b987-136c6131bcc6",
     "showTitle": false,
     "title": ""
    }
   },
   "outputs": [
    {
     "output_type": "stream",
     "name": "stdout",
     "output_type": "stream",
     "text": [
      "Out[9]: True"
     ]
    }
   ],
   "source": [
    "# Moving to DBFS\n",
    "\n",
    "dbutils.fs.mv(\"file:/tmp/\" +  clinicaltrial_2023 + \".csv\", \"/FileStore/tables/\" +  clinicaltrial_2023 + \".csv\", True)\n",
    "dbutils.fs.mv(\"file:/tmp/\" + pharma + \".csv\", \"/FileStore/tables/\" + pharma + \".csv\", True)"
   ]
  },
  {
   "cell_type": "code",
   "execution_count": 0,
   "metadata": {
    "application/vnd.databricks.v1+cell": {
     "cellMetadata": {
      "byteLimit": 2048000,
      "rowLimit": 10000
     },
     "inputWidgets": {},
     "nuid": "f82cf5ac-efbe-4e4c-8846-c0f1cc77dcb7",
     "showTitle": false,
     "title": ""
    }
   },
   "outputs": [
    {
     "output_type": "stream",
     "name": "stdout",
     "output_type": "stream",
     "text": [
      "Out[10]: [FileInfo(path='dbfs:/FileStore/tables/Occupancy_Detection_Data.csv', name='Occupancy_Detection_Data.csv', size=50968, modificationTime=1709126857000),\n FileInfo(path='dbfs:/FileStore/tables/account-models/', name='account-models/', size=0, modificationTime=0),\n FileInfo(path='dbfs:/FileStore/tables/accounts/', name='accounts/', size=0, modificationTime=0),\n FileInfo(path='dbfs:/FileStore/tables/accounts.zip', name='accounts.zip', size=5297592, modificationTime=1706710326000),\n FileInfo(path='dbfs:/FileStore/tables/activations/', name='activations/', size=0, modificationTime=0),\n FileInfo(path='dbfs:/FileStore/tables/activations.zip', name='activations.zip', size=8411369, modificationTime=1706707446000),\n FileInfo(path='dbfs:/FileStore/tables/clinicaltrial_2021/', name='clinicaltrial_2021/', size=0, modificationTime=0),\n FileInfo(path='dbfs:/FileStore/tables/clinicaltrial_2021.csv', name='clinicaltrial_2021.csv', size=50359696, modificationTime=1712533828000),\n FileInfo(path='dbfs:/FileStore/tables/clinicaltrial_2021.zip', name='clinicaltrial_2021.zip', size=11508457, modificationTime=1712100054000),\n FileInfo(path='dbfs:/FileStore/tables/clinicaltrial_2023/', name='clinicaltrial_2023/', size=0, modificationTime=0),\n FileInfo(path='dbfs:/FileStore/tables/clinicaltrial_2023.csv', name='clinicaltrial_2023.csv', size=292436366, modificationTime=1714226672000),\n FileInfo(path='dbfs:/FileStore/tables/clinicaltrial_2023.zip', name='clinicaltrial_2023.zip', size=57166668, modificationTime=1711982596000),\n FileInfo(path='dbfs:/FileStore/tables/iostream/', name='iostream/', size=0, modificationTime=0),\n FileInfo(path='dbfs:/FileStore/tables/iotstream/', name='iotstream/', size=0, modificationTime=0),\n FileInfo(path='dbfs:/FileStore/tables/iotstream-1.zip', name='iotstream-1.zip', size=43891, modificationTime=1708526085000),\n FileInfo(path='dbfs:/FileStore/tables/iotstream.zip', name='iotstream.zip', size=43891, modificationTime=1708525856000),\n FileInfo(path='dbfs:/FileStore/tables/logs/', name='logs/', size=0, modificationTime=0),\n FileInfo(path='dbfs:/FileStore/tables/logs.zip', name='logs.zip', size=18168065, modificationTime=1706710329000),\n FileInfo(path='dbfs:/FileStore/tables/movies.csv', name='movies.csv', size=494431, modificationTime=1709733395000),\n FileInfo(path='dbfs:/FileStore/tables/myratings.csv', name='myratings.csv', size=10683, modificationTime=1709734356000),\n FileInfo(path='dbfs:/FileStore/tables/myratings_1_.csv', name='myratings_1_.csv', size=10683, modificationTime=1709733482000),\n FileInfo(path='dbfs:/FileStore/tables/pharma/', name='pharma/', size=0, modificationTime=0),\n FileInfo(path='dbfs:/FileStore/tables/pharma.csv', name='pharma.csv', size=678999, modificationTime=1714226676000),\n FileInfo(path='dbfs:/FileStore/tables/pharma.zip', name='pharma.zip', size=109982, modificationTime=1711662953000),\n FileInfo(path='dbfs:/FileStore/tables/ratings.csv', name='ratings.csv', size=2483723, modificationTime=1709733396000),\n FileInfo(path='dbfs:/FileStore/tables/steam_200k.csv', name='steam_200k.csv', size=8059447, modificationTime=1710453845000),\n FileInfo(path='dbfs:/FileStore/tables/test.json', name='test.json', size=17958, modificationTime=1706102749000),\n FileInfo(path='dbfs:/FileStore/tables/webpage/', name='webpage/', size=0, modificationTime=0),\n FileInfo(path='dbfs:/FileStore/tables/webpage.zip', name='webpage.zip', size=1582, modificationTime=1707313163000)]"
     ]
    }
   ],
   "source": [
    "# Check to confirm that the files are in the directory directory\n",
    "\n",
    "dbutils.fs.ls(\"/FileStore/tables/\")"
   ]
  },
  {
   "cell_type": "code",
   "execution_count": 0,
   "metadata": {
    "application/vnd.databricks.v1+cell": {
     "cellMetadata": {
      "byteLimit": 2048000,
      "rowLimit": 10000
     },
     "inputWidgets": {},
     "nuid": "56f9a631-9302-4cdd-bd82-9b49c46a3c39",
     "showTitle": false,
     "title": ""
    }
   },
   "outputs": [
    {
     "output_type": "stream",
     "name": "stdout",
     "output_type": "stream",
     "text": [
      "[Truncated to first 65536 bytes]\nOut[11]: '\"Id\\tStudy Title\\tAcronym\\tStatus\\tConditions\\tInterventions\\tSponsor\\tCollaborators\\tEnrollment\\tFunder Type\\tType\\tStudy Design\\tStart\\tCompletion\",,,,,,,,,,,,,,,,,,,,,,,,,,,,,,,,,,,,,,,,,,,,,,,,,,,,,,,,,,,,,,,,,,,,,,,,,,,,,,,,,,,,,,,,,,,,,,,,,,,,,,,,,,,,,,,,,,,,,,,,,,,,,,,,,,,,,,,,,,,,,,,,,,,,,,,,,,,,,,,,,,,,,,,,,,,,,,,,,,,,,,,,,,,,,,,,,,,,,,,,,,,,,,,,,,\\r\\n\"NCT03630471\\tEffectiveness of a Problem-solving Intervention for Common Adolescent Mental Health Problems in India\\tPRIDE\\tCOMPLETED\\tMental Health Issue (E.G.\", Depression, Psychosis, Personality Disorder,\" Substance Abuse)\\tBEHAVIORAL: PRIDE \\'Step 1\\' problem-solving intervention|BEHAVIORAL: Enhanced usual care\\tSangath\\tHarvard Medical School (HMS and HSDM)|London School of Hygiene and Tropical Medicine\\t250.0\\tOTHER\\tINTERVENTIONAL\\tAllocation: RANDOMIZED|Intervention Model: PARALLEL|Masking: DOUBLE (INVESTIGATOR\",\" OUTCOMES_ASSESSOR)|Primary Purpose: TREATMENT\\t2018-08-20\\t2019-02-28\",,,,,,,,,,,,,,,,,,,,,,,,,,,,,,,,,,,,,,,,,,,,,,,,,,,,,,,,,,,,,,,,,,,,,,,,,,,,,,,,,,,,,,,,,,,,,,,,,,,,,,,,,,,,,,,,,,,,,,,,,,,,,,,,,,,,,,,,,,,,,,,,,,,,,,,,,,,,,,,,,,,,,,,,,,,,,,,,,,,,,,,,,,,,,,,,,,,,,,,,,,,,,\\r\\n\"NCT05992571\\tOral Ketone Monoester Supplementation and Resting-state Brain Connectivity\\t\\tRECRUITING\\tCerebrovascular Function|Cognition\\tOTHER: Placebo|DIETARY_SUPPLEMENT: β-OHB\\tMcMaster University\\tAlzheimer\\'s Society of Brant\", Haldimand Norfolk,\" Hamilton Halton\\t30.0\\tOTHER\\tINTERVENTIONAL\\tAllocation: RANDOMIZED|Intervention Model: CROSSOVER|Masking: TRIPLE (PARTICIPANT\", INVESTIGATOR,\" OUTCOMES_ASSESSOR)|Primary Purpose: BASIC_SCIENCE\\t2023-10-25\\t2024-08\",,,,,,,,,,,,,,,,,,,,,,,,,,,,,,,,,,,,,,,,,,,,,,,,,,,,,,,,,,,,,,,,,,,,,,,,,,,,,,,,,,,,,,,,,,,,,,,,,,,,,,,,,,,,,,,,,,,,,,,,,,,,,,,,,,,,,,,,,,,,,,,,,,,,,,,,,,,,,,,,,,,,,,,,,,,,,,,,,,,,,,,,,,,,,,,,,,,,,,,,,,,,,,\\r\\n\"NCT00237471\\tImpact of Tight Glycaemic Control in Acute Myocardial Infarction\\t\\tTERMINATED\\tMyocardial Infarct|Hyperglycemia\\tDRUG: Insulin (tight blood glucose control)\\tMelbourne Health\\tNational Health and Medical Research Council\",\" Australia|Bristol-Myers Squibb\\t40.0\\tOTHER\\tINTERVENTIONAL\\tAllocation: RANDOMIZED|Intervention Model: PARALLEL|Masking: NONE|Primary Purpose: TREATMENT\\t2005-10\\t2006-05\",,,,,,,,,,,,,,,,,,,,,,,,,,,,,,,,,,,,,,,,,,,,,,,,,,,,,,,,,,,,,,,,,,,,,,,,,,,,,,,,,,,,,,,,,,,,,,,,,,,,,,,,,,,,,,,,,,,,,,,,,,,,,,,,,,,,,,,,,,,,,,,,,,,,,,,,,,,,,,,,,,,,,,,,,,,,,,,,,,,,,,,,,,,,,,,,,,,,,,,,,,,,,,,,,\\r\\n\"NCT03820271\\tNew Prognostic Predictive Models of Mortality of Decompensated Cirrhotic Patients Waiting for Liver Transplantation\\tSUPERMELD\\tRECRUITING\\tDecompensated Cirrhosis|Liver Transplantation\\tOTHER: SuperMELD\\tAssistance Publique - Hôpitaux de Paris\\t\\t500.0\\tOTHER\\tINTERVENTIONAL\\tAllocation: NA|Intervention Model: SINGLE_GROUP|Masking: NONE|Primary Purpose: OTHER\\t2020-10-01\\t2023-10-01\",,,,,,,,,,,,,,,,,,,,,,,,,,,,,,,,,,,,,,,,,,,,,,,,,,,,,,,,,,,,,,,,,,,,,,,,,,,,,,,,,,,,,,,,,,,,,,,,,,,,,,,,,,,,,,,,,,,,,,,,,,,,,,,,,,,,,,,,,,,,,,,,,,,,,,,,,,,,,,,,,,,,,,,,,,,,,,,,,,,,,,,,,,,,,,,,,,,,,,,,,,,,,,,,,,\\r\\n\"NCT06229171\\tInTake Care: Development and Validation of an Innovative\",\" Personalized Digital Health Solution for Medication Adherence Support in Cardiovascular Prevention\\tInTakeCare\\tNOT_YET_RECRUITING\\tHypertension|Treatment Adherence and Compliance|Digital Health\\tOTHER: adherence support system based on a vocal assistant\\tIstituto Auxologico Italiano\\tIstituti Clinici Scientifici Maugeri SpA|Politecnico di Milano\\t206.0\\tOTHER\\tINTERVENTIONAL\\tAllocation: RANDOMIZED|Intervention Model: PARALLEL|Masking: NONE|Primary Purpose: OTHER\\t2024-10-01\\t2026-04-01\",,,,,,,,,,,,,,,,,,,,,,,,,,,,,,,,,,,,,,,,,,,,,,,,,,,,,,,,,,,,,,,,,,,,,,,,,,,,,,,,,,,,,,,,,,,,,,,,,,,,,,,,,,,,,,,,,,,,,,,,,,,,,,,,,,,,,,,,,,,,,,,,,,,,,,,,,,,,,,,,,,,,,,,,,,,,,,,,,,,,,,,,,,,,,,,,,,,,,,,,,,,,,,,,,\\r\\n\"NCT02945371\\tTailored Inhibitory Control Training to Reverse EA-linked Deficits in Mid-life\\tREV\\tCOMPLETED\\tSmoking|Alcohol Drinking|Prescription Drug Abuse|Substance-Related Disorders|Oral Intake Reduced\\tBEHAVIORAL: Person-centered inhibitory control training|BEHAVIORAL: Active behavioral response training\\tUniversity of Oregon\\t\\t103.0\\tOTHER\\tINTERVENTIONAL\\tAllocation: RANDOMIZED|Intervention Model: PARALLEL|Masking: SINGLE (PARTICIPANT)|Primary Purpose: PREVENTION\\t2014-09\\t2016-05\",,,,,,,,,,,,,,,,,,,,,,,,,,,,,,,,,,,,,,,,,,,,,,,,,,,,,,,,,,,,,,,,,,,,,,,,,,,,,,,,,,,,,,,,,,,,,,,,,,,,,,,,,,,,,,,,,,,,,,,,,,,,,,,,,,,,,,,,,,,,,,,,,,,,,,,,,,,,,,,,,,,,,,,,,,,,,,,,,,,,,,,,,,,,,,,,,,,,,,,,,,,,,,,,,,\\r\\n\"NCT01055171\\tNeuromodulation of Trauma Memories in PTSD & Alcohol Dependence\\t\\tCOMPLETED\\tAlcohol Dependence|PTSD\\tDRUG: Propranolol|DRUG: Placebo\\tMedical University of South Carolina\\tNational Institute on Alcohol Abuse and Alcoholism (NIAAA)\\t44.0\\tOTHER\\tINTERVENTIONAL\\tAllocation: RANDOMIZED|Intervention Model: PARALLEL|Masking: QUADRUPLE (PARTICIPANT\", CARE_PROVIDER, INVESTIGATOR,\" OUTCOMES_ASSESSOR)|Primary Purpose: TREATMENT\\t2010-01\\t2012-08\",,,,,,,,,,,,,,,,,,,,,,,,,,,,,,,,,,,,,,,,,,,,,,,,,,,,,,,,,,,,,,,,,,,,,,,,,,,,,,,,,,,,,,,,,,,,,,,,,,,,,,,,,,,,,,,,,,,,,,,,,,,,,,,,,,,,,,,,,,,,,,,,,,,,,,,,,,,,,,,,,,,,,,,,,,,,,,,,,,,,,,,,,,,,,,,,,,,,,,,,,,,,,,,\\r\\n\"NCT01125371\\tComputerized Brief Alcohol Intervention (BI) for Binge Drinking HIV At-Risk and Infected Women\\t\\tCOMPLETED\\tAlcohol; Harmful Use|Binge Drinking|Risk Behavior|HIV Infection\\tBEHAVIORAL: Computerized brief alcohol intervention + IVR booster calls|BEHAVIORAL: Computerized brief alcohol intervention|BEHAVIORAL: Attention Control\\tJohns Hopkins University\\tNational Institute on Alcohol Abuse and Alcoholism (NIAAA)\\t439.0\\tOTHER\\tINTERVENTIONAL\\tAllocation: RANDOMIZED|Intervention Model: PARALLEL|Masking: DOUBLE (INVESTIGATOR\",\" OUTCOMES_ASSESSOR)|Primary Purpose: TREATMENT\\t2011-10\\t2016-06-07\",,,,,,,,,,,,,,,,,,,,,,,,,,,,,,,,,,,,,,,,,,,,,,,,,,,,,,,,,,,,,,,,,,,,,,,,,,,,,,,,,,,,,,,,,,,,,,,,,,,,,,,,,,,,,,,,,,,,,,,,,,,,,,,,,,,,,,,,,,,,,,,,,,,,,,,,,,,,,,,,,,,,,,,,,,,,,,,,,,,,,,,,,,,,,,,,,,,,,,,,,,,,,,,,,\\r\\n\"NCT02554071\\tManitoba Pharmacist Initiated Smoking Cessation Pilot Project\\t\\tCOMPLETED\\tSmoking Cessation\\tOTHER: Pharmacist - Smoking Cessation Support\\tUniversity of Manitoba\\tGovenment of Manitoba|Canadian Foundation for Pharmacy|Neighbourhood Pharmacy Association of Canada\\t119.0\\tOTHER\\tINTERVENTIONAL\\tAllocation: NA|Intervention Model: SINGLE_GROUP|Masking: NONE|Primary Purpose: SUPPORTIVE_CARE\\t2014-01\\t2014-11\",,,,,,,,,,,,,,,,,,,,,,,,,,,,,,,,,,,,,,,,,,,,,,,,,,,,,,,,,,,,,,,,,,,,,,,,,,,,,,,,,,,,,,,,,,,,,,,,,,,,,,,,,,,,,,,,,,,,,,,,,,,,,,,,,,,,,,,,,,,,,,,,,,,,,,,,,,,,,,,,,,,,,,,,,,,,,,,,,,,,,,,,,,,,,,,,,,,,,,,,,,,,,,,,,,\\r\\n\"NCT01772771\\tMolecular Testing for the MD Anderson Cancer Center Personalized Cancer Therapy Program\\t\\tRECRUITING\\tGlioma|Hematopoietic and Lymphoid Cell Neoplasm|Malignant Solid Neoplasm|Melanoma|Sarcoma\\tPROCEDURE: Biospecimen Collection|OTHER: Genetic Testing|OTHER: Medical Chart Review\\tM.D. Anderson Cancer Center\\tNational Cancer Institute (NCI)\\t12000.0\\tOTHER\\tOBSERVATIONAL\\tObservational Model: |Time Perspective: p\\t2012-03-01\\t2033-03-01\",,,,,,,,,,,,,,,,,,,,,,,,,,,,,,,,,,,,,,,,,,,,,,,,,,,,,,,,,,,,,,,,,,,,,,,,,,,,,,,,,,,,,,,,,,,,,,,,,,,,,,,,,,,,,,,,,,,,,,,,,,,,,,,,,,,,,,,,,,,,,,,,,,,,,,,,,,,,,,,,,,,,,,,,,,,,,,,,,,,,,,,,,,,,,,,,,,,,,,,,,,,,,,,,,,\\r\\n\"NCT02633371\\tA Pilot Study Exploring the Efficacy and Safety of Topical Oxybutynin 3% Gel for Primary Focal Hyperhidrosis in Adolescents and Young Adults\\t\\tCOMPLETED\\tHyperhidrosis\\tDRUG: Oxybutynin 3% gel\\tUniversity of Colorado\",\" Denver\\tSociety for Pediatric Dermatology\\t10.0\\tOTHER\\tINTERVENTIONAL\\tAllocation: NA|Intervention Model: SINGLE_GROUP|Masking: NONE|Primary Purpose: TREATMENT\\t2016-02\\t2017-05\",,,,,,,,,,,,,,,,,,,,,,,,,,,,,,,,,,,,,,,,,,,,,,,,,,,,,,,,,,,,,,,,,,,,,,,,,,,,,,,,,,,,,,,,,,,,,,,,,,,,,,,,,,,,,,,,,,,,,,,,,,,,,,,,,,,,,,,,,,,,,,,,,,,,,,,,,,,,,,,,,,,,,,,,,,,,,,,,,,,,,,,,,,,,,,,,,,,,,,,,,,,,,,,,,\\r\\n\"NCT03400371\\tBiology of Juvenile Myoclonic Epilepsy\\tBIOJUME\\tRECRUITING\\tJuvenile Myoclonic Epilepsy\\tOTHER: Blood draw|OTHER: Existing samples\\tKing\\'s College London\\tKing\\'s College Hospital NHS Trust|Charles University\",\" Czech Republic|Hopital Universitaire Robert-Debre|Vestre Viken Hospital Trust|The Hospital for Sick Children|Cardiff University|Odense University Hospital\\t1000.0\\tOTHER\\tOBSERVATIONAL\\tObservational Model: |Time Perspective: p\\t2017-07-13\\t2026-06-30\",,,,,,,,,,,,,,,,,,,,,,,,,,,,,,,,,,,,,,,,,,,,,,,,,,,,,,,,,,,,,,,,,,,,,,,,,,,,,,,,,,,,,,,,,,,,,,,,,,,,,,,,,,,,,,,,,,,,,,,,,,,,,,,,,,,,,,,,,,,,,,,,,,,,,,,,,,,,,,,,,,,,,,,,,,,,,,,,,,,,,,,,,,,,,,,,,,,,,,,,,,,,,,,,,\\r\\n\"NCT00120471\\tSafety and Blood Levels of Tenofovir Disoproxil Fumarate in HIV Infected Pregnant Women and Their Babies\\t\\tCOMPLETED\\tHIV Infections\\tDRUG: Tenofovir disoproxil fumarate|DRUG: Tenofovir disoproxil fumarate|DRUG: Tenofovir disoproxil fumarate\\tNational Institute of Allergy and Infectious Diseases (NIAID)\\tEunice Kennedy Shriver National Institute of Child Health and Human Development (NICHD)|National Institute on Drug Abuse (NIDA)|National Institute of Mental Health (NIMH)\\t122.0\\tNIH\\tINTERVENTIONAL\\tAllocation: RANDOMIZED|Intervention Model: PARALLEL|Masking: NONE|Primary Purpose: PREVENTION\\t2006-11\\t2011-12\",,,,,,,,,,,,,,,,,,,,,,,,,,,,,,,,,,,,,,,,,,,,,,,,,,,,,,,,,,,,,,,,,,,,,,,,,,,,,,,,,,,,,,,,,,,,,,,,,,,,,,,,,,,,,,,,,,,,,,,,,,,,,,,,,,,,,,,,,,,,,,,,,,,,,,,,,,,,,,,,,,,,,,,,,,,,,,,,,,,,,,,,,,,,,,,,,,,,,,,,,,,,,,,,,,\\r\\n\"NCT04784871\\tPromoting Wellbeing: The Five Ways to All Intervention\\t5WaysA\\tCOMPLETED\\tWellbeing|Health Attitude|Quality of Life\\tBEHAVIORAL: 5waysA Intervention|BEHAVIORAL: 5waysA Active wait-list control|BEHAVIORAL: 5waysA Inactive wait-list control\\tUniversity of Oslo\\tNorwegian Institute of Public Health|Norwegian Council for Mental Health|The Dam Foundation\\t970.0\\tOTHER\\tINTERVENTIONAL\\tAllocation: RANDOMIZED|Intervention Model: PARALLEL|Masking: NONE|Primary Purpose: PREVENTION\\t2021-03-04\\t2023-02-24\",,,,,,,,,,,,,,,,,,,,,,,,,,,,,,,,,,,,,,,,,,,,,,,,,,,,,,,,,,,,,,,,,,,,,,,,,,,,,,,,,,,,,,,,,,,,,,,,,,,,,,,,,,,,,,,,,,,,,,,,,,,,,,,,,,,,,,,,,,,,,,,,,,,,,,,,,,,,,,,,,,,,,,,,,,,,,,,,,,,,,,,,,,,,,,,,,,,,,,,,,,,,,,,,,,\\r\\n\"NCT02383771\\tReversal of the Anti-platelet Effects of Ticagrelor\\tREVERSAL\\tCOMPLETED\\tCoronary Artery Disease\\tDRUG: Ticagrelor|DRUG: Aspirin + Ticagrelor|DRUG: Control|DRUG: Aspirin + Ticagrelor\\tThe First Affiliated Hospital with Nanjing Medical University\\tNational Natural Science Foundation of China\\t64.0\\tOTHER\\tINTERVENTIONAL\\tAllocation: RANDOMIZED|Intervention Model: PARALLEL|Masking: SINGLE (INVESTIGATOR)|Primary Purpose: TREATMENT\\t2015-03\\t2016-12\",,,,,,,,,,,,,,,,,,,,,,,,,,,,,,,,,,,,,,,,,,,,,,,,,,,,,,,,,,,,,,,,,,,,,,,,,,,,,,,,,,,,,,,,,,,,,,,,,,,,,,,,,,,,,,,,,,,,,,,,,,,,,,,,,,,,,,,,,,,,,,,,,,,,,,,,,,,,,,,,,,,,,,,,,,,,,,,,,,,,,,,,,,,,,,,,,,,,,,,,,,,,,,,,,,\\r\\n\"NCT03269071\\tNeural Stem Cell Transplantation in Multiple Sclerosis Patients\\tSTEMS\\tCOMPLETED\\tProgressive Multiple Sclerosis\\tDRUG: human fetal-derived Neural Stem Cells (hNSCs)\\tIRCCS San Raffaele\\tFondazione Italiana Sclerosi Multipla\\t4.0\\tOTHER\\tINTERVENTIONAL\\tAllocation: NON_RANDOMIZED|Intervention Model: SEQUENTIAL|Masking: NONE|Primary Purpose: TREATMENT\\t2017-05-17\\t2021-07-31\",,,,,,,,,,,,,,,,,,,,,,,,,,,,,,,,,,,,,,,,,,,,,,,,,,,,,,,,,,,,,,,,,,,,,,,,,,,,,,,,,,,,,,,,,,,,,,,,,,,,,,,,,,,,,,,,,,,,,,,,,,,,,,,,,,,,,,,,,,,,,,,,,,,,,,,,,,,,,,,,,,,,,,,,,,,,,,,,,,,,,,,,,,,,,,,,,,,,,,,,,,,,,,,,,,\\r\\n\"NCT01659671\\tRCT of the Effect of Uvulopalatopharyngoplasty Compared to Expectancy in Patients With Obstructive Sleep Apnea\\tSKUP3\\tCOMPLETED\\tObstructive Sleep Apnea Syndrome\\tPROCEDURE: Uvulopalatopharyngoplasty\\tKarolinska University Hospital\\tKarolinska Institutet\\t65.0\\tOTHER\\tINTERVENTIONAL\\tAllocation: RANDOMIZED|Intervention Model: PARALLEL|Masking: SINGLE (OUTCOMES_ASSESSOR)|Primary Purpose: TREATMENT\\t2007-06\\t2014-05\",,,,,,,,,,,,,,,,,,,,,,,,,,,,,,,,,,,,,,,,,,,,,,,,,,,,,,,,,,,,,,,,,,,,,,,,,,,,,,,,,,,,,,,,,,,,,,,,,,,,,,,,,,,,,,,,,,,,,,,,,,,,,,,,,,,,,,,,,,,,,,,,,,,,,,,,,,,,,,,,,,,,,,,,,,,,,,,,,,,,,,,,,,,,,,,,,,,,,,,,,,,,,,,,,,\\r\\n\"NCT04765371\\tComparison Between Prednisolone and Dexamethasone on Mortality in Patients on Oxygen Therapy\",\" With CoViD-19\\tCOPreDex\\tCOMPLETED\\tCoronavirus Infection\\tDRUG: DEXAMETHASONE|DRUG: PREDNISOLONE\\tHôpital NOVO\\t\\t89.0\\tOTHER\\tINTERVENTIONAL\\tAllocation: RANDOMIZED|Intervention Model: PARALLEL|Masking: NONE|Primary Purpose: TREATMENT\\t2021-03-03\\t2022-05-13\",,,,,,,,,,,,,,,,,,,,,,,,,,,,,,,,,,,,,,,,,,,,,,,,,,,,,,,,,,,,,,,,,,,,,,,,,,,,,,,,,,,,,,,,,,,,,,,,,,,,,,,,,,,,,,,,,,,,,,,,,,,,,,,,,,,,,,,,,,,,,,,,,,,,,,,,,,,,,,,,,,,,,,,,,,,,,,,,,,,,,,,,,,,,,,,,,,,,,,,,,,,,,,,,,\\r\\n\"NCT02830971\\tDeveloping a Standardized Learning Curve\\t\\tCOMPLETED\\tRegistered Nurses|Nursing Personnel|Motor Skills\\tPROCEDURE: Doing Different ICU techniques and skills\\tBaqiyatallah Medical Sciences University\\tShahid Beheshti University|Tehran University of Medical Sciences\\t60.0\\tOTHER\\tINTERVENTIONAL\\tAllocation: NA|Intervention Model: SINGLE_GROUP|Masking: NONE|Primary Purpose: BASIC_SCIENCE\\t2016-07\\t2021-04-12\",,,,,,,,,,,,,,,,,,,,,,,,,,,,,,,,,,,,,,,,,,,,,,,,,,,,,,,,,,,,,,,,,,,,,,,,,,,,,,,,,,,,,,,,,,,,,,,,,,,,,,,,,,,,,,,,,,,,,,,,,,,,,,,,,,,,,,,,,,,,,,,,,,,,,,,,,,,,,,,,,,,,,,,,,,,,,,,,,,,,,,,,,,,,,,,,,,,,,,,,,,,,,,,,,,\\r\\n\"NCT00416871\\tInterleukin-2 and Interferon in Treating Patients With Metastatic Kidney Cancer\\t\\tCOMPLETED\\tKidney Cancer\\tBIOLOGICAL: aldesleukin|BIOLOGICAL: recombinant interferon alfa\\tCentre Leon Berard\\t\\t220.0\\tOTHER\\tINTERVENTIONAL\\tAllocation: RANDOMIZED|Intervention Model: |Masking: NONE|Primary Purpose: TREATMENT\\t\\t2006-02\",,,,,,,,,,,,,,,,,,,,,,,,,,,,,,,,,,,,,,,,,,,,,,,,,,,,,,,,,,,,,,,,,,,,,,,,,,,,,,,,,,,,,,,,,,,,,,,,,,,,,,,,,,,,,,,,,,,,,,,,,,,,,,,,,,,,,,,,,,,,,,,,,,,,,,,,,,,,,,,,,,,,,,,,,,,,,,,,,,,,,,,,,,,,,,,,,,,,,,,,,,,,,,,,,,\\r\\n\"NCT05900271\\tDutch-Depression Outcome Trial Comparing 5 Day Multi Daily Neuronavigated Theta Burst Sessions With 6 Weeks rTMS\\tDDOT\\tACTIVE_NOT_RECRUITING\\tTreatment Resistant Depression\\tDEVICE: rTMS|DEVICE: iTBS\\tAmsterdam UMC\",\" location VUmc\\tRadboud University Medical Center|University Medical Center Groningen|Maastricht University|Trimbos|Academisch Medisch Centrum - Universiteit van Amsterdam (AMC-UvA)\\t108.0\\tOTHER\\tINTERVENTIONAL\\tAllocation: RANDOMIZED|Intervention Model: PARALLEL|Masking: SINGLE (OUTCOMES_ASSESSOR)|Primary Purpose: TREATMENT\\t2023-11-15\\t2027-12\",,,,,,,,,,,,,,,,,,,,,,,,,,,,,,,,,,,,,,,,,,,,,,,,,,,,,,,,,,,,,,,,,,,,,,,,,,,,,,,,,,,,,,,,,,,,,,,,,,,,,,,,,,,,,,,,,,,,,,,,,,,,,,,,,,,,,,,,,,,,,,,,,,,,,,,,,,,,,,,,,,,,,,,,,,,,,,,,,,,,,,,,,,,,,,,,,,,,,,,,,,,,,,,,,\\r\\n\"NCT02469571\\tModulation of Gut Microbiota in Early Sepsis: A Pilot Study\\tMGM-sepsis\\tCOMPLETED\\tSepsis\\tDIETARY_SUPPLEMENT: Winclove 607|DIETARY_SUPPLEMENT: Placebo\\tMedical University of Graz\\t\\t15.0\\tOTHER\\tINTERVENTIONAL\\tAllocation: RANDOMIZED|Intervention Model: PARALLEL|Masking: QUADRUPLE (PARTICIPANT\", CARE_PROVIDER, INVESTIGATOR,\" OUTCOMES_ASSESSOR)|Primary Purpose: PREVENTION\\t2015-09-01\\t2018-03-01\",,,,,,,,,,,,,,,,,,,,,,,,,,,,,,,,,,,,,,,,,,,,,,,,,,,,,,,,,,,,,,,,,,,,,,,,,,,,,,,,,,,,,,,,,,,,,,,,,,,,,,,,,,,,,,,,,,,,,,,,,,,,,,,,,,,,,,,,,,,,,,,,,,,,,,,,,,,,,,,,,,,,,,,,,,,,,,,,,,,,,,,,,,,,,,,,,,,,,,,,,,,,,,,\\r\\n\"NCT05807971\\tAssessment of Safety\", Tolerability, Pharmacokinetics,\" and Pharmacodynamics of ATH-063 in Healthy Subjects\\t\\tRECRUITING\\tInflammatory Bowel Diseases|Crohn Disease|Ulcerative Colitis|Autoimmune Diseases\\tDRUG: ATH-063|DRUG: Placebo\\tAthos Therapeutics Inc\\tSyneos Health|Athos Therapeutics Australia Pty Ltd\\t76.0\\tINDUSTRY\\tINTERVENTIONAL\\tAllocation: RANDOMIZED|Intervention Model: SEQUENTIAL|Masking: QUADRUPLE (PARTICIPANT\", CARE_PROVIDER, INVESTIGATOR,\" OUTCOMES_ASSESSOR)|Primary Purpose: TREATMENT\\t2023-04-06\\t2024-02-08\",,,,,,,,,,,,,,,,,,,,,,,,,,,,,,,,,,,,,,,,,,,,,,,,,,,,,,,,,,,,,,,,,,,,,,,,,,,,,,,,,,,,,,,,,,,,,,,,,,,,,,,,,,,,,,,,,,,,,,,,,,,,,,,,,,,,,,,,,,,,,,,,,,,,,,,,,,,,,,,,,,,,,,,,,,,,,,,,,,,,,,,,,,,,,,,,,,,,,,,,,,,,\\r\\n\"NCT02083471\\tCow\\'s Milk and Hen\\'s Egg Hyposensitization in Adults\\t\\tUNKNOWN\\tEgg Allergy|Cow\\'s Milk Allergy\\tDIETARY_SUPPLEMENT: Specific Oral Tolerance Induction with Egg or Cow\\'s milk\\tTurku University Hospital\\t\\t40.0\\tOTHER_GOV\\tINTERVENTIONAL\\tAllocation: RANDOMIZED|Intervention Model: PARALLEL|Masking: NONE|Primary Purpose: TREATMENT\\t2015-04\\t2017-05\",,,,,,,,,,,,,,,,,,,,,,,,,,,,,,,,,,,,,,,,,,,,,,,,,,,,,,,,,,,,,,,,,,,,,,,,,,,,,,,,,,,,,,,,,,,,,,,,,,,,,,,,,,,,,,,,,,,,,,,,,,,,,,,,,,,,,,,,,,,,,,,,,,,,,,,,,,,,,,,,,,,,,,,,,,,,,,,,,,,,,,,,,,,,,,,,,,,,,,,,,,,,,,,,,,\\r\\n\"NCT01062971\\tClinical Study of A Fixed Combination of Timolol-Brimonidine-Dorzolamide\\t\\tCOMPLETED\\tPrimary Open Angle Glaucoma|Ocular Hypertension\\tDRUG: dorzolamide-timolol-brimonidine\\tLaboratorios Sophia S.A de C.V.\\t\\t124.0\\tINDUSTRY\\tINTERVENTIONAL\\tAllocation: RANDOMIZED|Intervention Model: PARALLEL|Masking: DOUBLE (PARTICIPANT\",\" INVESTIGATOR)|Primary Purpose: TREATMENT\\t2006-02\\t2008-06\",,,,,,,,,,,,,,,,,,,,,,,,,,,,,,,,,,,,,,,,,,,,,,,,,,,,,,,,,,,,,,,,,,,,,,,,,,,,,,,,,,,,,,,,,,,,,,,,,,,,,,,,,,,,,,,,,,,,,,,,,,,,,,,,,,,,,,,,,,,,,,,,,,,,,,,,,,,,,,,,,,,,,,,,,,,,,,,,,,,,,,,,,,,,,,,,,,,,,,,,,,,,,,,,,\\r\\n\"NCT03928171\\tThe Effect of Intra-abdominal Pressure on Peritoneal Perfusion During Laparoscopic Colorectal Surgery\\tPERFUSION\\tCOMPLETED\\tLaparoscopic Surgery|Pneumoperitoneum\\tOTHER: Intra-abdominal pressure during laparoscopy\\tRadboud University Medical Center\\t\\t30.0\\tOTHER\\tINTERVENTIONAL\\tAllocation: RANDOMIZED|Intervention Model: PARALLEL|Masking: TRIPLE (PARTICIPANT\", CARE_PROVIDER,\" OUTCOMES_ASSESSOR)|Primary Purpose: TREATMENT\\t2018-06-13\\t2018-12-24\",,,,,,,,,,,,,,,,,,,,,,,,,,,,,,,,,,,,,,,,,,,,,,,,,,,,,,,,,,,,,,,,,,,,,,,,,,,,,,,,,,,,,,,,,,,,,,,,,,,,,,,,,,,,,,,,,,,,,,,,,,,,,,,,,,,,,,,,,,,,,,,,,,,,,,,,,,,,,,,,,,,,,,,,,,,,,,,,,,,,,,,,,,,,,,,,,,,,,,,,,,,,,,,,\\r\\n\"NCT00897871\\tEvaluating the Side Effects and How Well Anticancer Drugs Work in Very Young Patients With Cancer\\t\\tUNKNOWN\\tUnspecified Childhood Solid Tumor\",\" Protocol Specific\\tDRUG: carboplatin|DRUG: cyclophosphamide|DRUG: etoposide phosphate|GENETIC: gene expression analysis|GENETIC: polymorphism analysis|OTHER: pharmacological study\\tChildren\\'s Cancer and Leukaemia Group\\t\\t60.0\\tOTHER\\tOBSERVATIONAL\\tObservational Model: |Time Perspective: p\\t2007-02\\t\",,,,,,,,,,,,,,,,,,,,,,,,,,,,,,,,,,,,,,,,,,,,,,,,,,,,,,,,,,,,,,,,,,,,,,,,,,,,,,,,,,,,,,,,,,,,,,,,,,,,,,,,,,,,,,,,,,,,,,,,,,,,,,,,,,,,,,,,,,,,,,,,,,,,,,,,,,,,,,,,,,,,,,,,,,,,,,,,,,,,,,,,,,,,,,,,,,,,,,,,,,,,,,,,,\\r\\n\"NCT00848471\\tValidation of the Quark RMR Calorimeter (Cosmed) Versus Deltatrac II (GE Health Care Clinical Systems)\\tProtocol Quark\\tUNKNOWN\\tHealthy|Obesity\\tDEVICE: Quark RMR|DEVICE: Deltatrac II\\tHospices Civils de Lyon\\tCentre de Recherche en Nutrition Humaine Rhone-Alpe\\t30.0\\tOTHER\\tINTERVENTIONAL\\tAllocation: RANDOMIZED|Intervention Model: CROSSOVER|Masking: NONE|Primary Purpose: HEALTH_SERVICES_RESEARCH\\t2009-01\\t2009-12\",,,,,,,,,,,,,,,,,,,,,,,,,,,,,,,,,,,,,,,,,,,,,,,,,,,,,,,,,,,,,,,,,,,,,,,,,,,,,,,,,,,,,,,,,,,,,,,,,,,,,,,,,,,,,,,,,,,,,,,,,,,,,,,,,,,,,,,,,,,,,,,,,,,,,,,,,,,,,,,,,,,,,,,,,,,,,,,,,,,,,,,,,,,,,,,,,,,,,,,,,,,,,,,,,,\\r\\n\"NCT06135571\\tStudy on the No.253 Lymph Node Metastasis Patterns in Left-Sided Colon and Rectal Cancer\\t\\tRECRUITING\\tColorectal Cancer|Lymph Node Metastasis\\tPROCEDURE: Laparoscopic colorectal surgery\\tCancer Institute and Hospital\",\" Chinese Academy of Medical Sciences\\tPeking Union Medical College Hospital|Peking University Cancer Hospital & Institute|China-Japan Friendship Hospital|Chinese PLA General Hospital\\t3000.0\\tOTHER\\tOBSERVATIONAL\\tObservational Model: |Time Perspective: p\\t2023-09-01\\t2026-09-01\",,,,,,,,,,,,,,,,,,,,,,,,,,,,,,,,,,,,,,,,,,,,,,,,,,,,,,,,,,,,,,,,,,,,,,,,,,,,,,,,,,,,,,,,,,,,,,,,,,,,,,,,,,,,,,,,,,,,,,,,,,,,,,,,,,,,,,,,,,,,,,,,,,,,,,,,,,,,,,,,,,,,,,,,,,,,,,,,,,,,,,,,,,,,,,,,,,,,,,,,,,,,,,,,,\\r\\n\"NCT01189071\\tPreoperative Use of Darifenacin (Enablex) to Alleviate Postoperative Ureteral Stent Pain\\t\\tTERMINATED\\tOveractive Bladder|Renal Colic|Pain\",\" Postoperative\\tDRUG: Darifenacin\\tUniversity of Missouri-Columbia\\t\\t3.0\\tOTHER\\tINTERVENTIONAL\\tAllocation: RANDOMIZED|Intervention Model: PARALLEL|Masking: DOUBLE (PARTICIPANT\",\" INVESTIGATOR)|Primary Purpose: TREATMENT\\t2009-08\\t2011-07\",,,,,,,,,,,,,,,,,,,,,,,,,,,,,,,,,,,,,,,,,,,,,,,,,,,,,,,,,,,,,,,,,,,,,,,,,,,,,,,,,,,,,,,,,,,,,,,,,,,,,,,,,,,,,,,,,,,,,,,,,,,,,,,,,,,,,,,,,,,,,,,,,,,,,,,,,,,,,,,,,,,,,,,,,,,,,,,,,,,,,,,,,,,,,,,,,,,,,,,,,,,,,,,,\\r\\n\"NCT00728871\\tThe Correlations Between HPV L1-Specific Immunologic Responses in Cervical Cancer and Cervical Intraepithelial Neoplasia (CIN) Patients and Their Prognosis\\t\\tUNKNOWN\\tCervical Cancer|Cervical Intraepithelial Neoplasia\\tPROCEDURE: peripheral blood isolation\\tNational Taiwan University Hospital\\t\\t600.0\\tOTHER\\tINTERVENTIONAL\\tAllocation: NA|Intervention Model: SINGLE_GROUP|Masking: NONE|Primary Purpose: BASIC_SCIENCE\\t2005-12\\t2011-12\",,,,,,,,,,,,,,,,,,,,,,,,,,,,,,,,,,,,,,,,,,,,,,,,,,,,,,,,,,,,,,,,,,,,,,,,,,,,,,,,,,,,,,,,,,,,,,,,,,,,,,,,,,,,,,,,,,,,,,,,,,,,,,,,,,,,,,,,,,,,,,,,,,,,,,,,,,,,,,,,,,,,,,,,,,,,,,,,,,,,,,,,,,,,,,,,,,,,,,,,,,,,,,,,,,\\r\\n\"NCT05592171\\tOcclusafe® Assisted MW Alone or With DEB-TACE Compared to MW With DEB-TACE in the Treatment of HCC\\tSEASON-HCC\\tRECRUITING\\tHCC\\tPROCEDURE: Microwave ablation + Occlusafe + DEB-TACE|PROCEDURE: Microwave ablation + Occlusafe|PROCEDURE: Microwave ablation + DEB-TACE\\tUniversity of Pisa\\tAzienda Ospedaliera Città della Salute e della Scienza di Torino|Fondazione Policlinico Universitario Agostino Gemelli IRCCS|Azienda Ospedaliera Universitaria Policlinico|IRCCS Azienda Ospedaliero-Universitaria di Bologna|Terumo Europe N.V.|Azienda Ospedaliero\",\" Universitaria Pisana\\t60.0\\tOTHER\\tINTERVENTIONAL\\tAllocation: RANDOMIZED|Intervention Model: PARALLEL|Masking: NONE|Primary Purpose: TREATMENT\\t2022-10-17\\t2025-10-17\",,,,,,,,,,,,,,,,,,,,,,,,,,,,,,,,,,,,,,,,,,,,,,,,,,,,,,,,,,,,,,,,,,,,,,,,,,,,,,,,,,,,,,,,,,,,,,,,,,,,,,,,,,,,,,,,,,,,,,,,,,,,,,,,,,,,,,,,,,,,,,,,,,,,,,,,,,,,,,,,,,,,,,,,,,,,,,,,,,,,,,,,,,,,,,,,,,,,,,,,,,,,,,,,,\\r\\n\"NCT00520871\\tThe Water-Blueberry Study\\t\\tCOMPLETED\\tCardiovascular Disease\\tDRUG: Blueberry juice\\tUniversity of Oslo\\tUllevaal University Hospital\\t62.0\\tOTHER\\tINTERVENTIONAL\\tAllocation: RANDOMIZED|Intervention Model: PARALLEL|Masking: SINGLE|Primary Purpose: PREVENTION\\t2003-03\\t2004-04\",,,,,,,,,,,,,,,,,,,,,,,,,,,,,,,,,,,,,,,,,,,,,,,,,,,,,,,,,,,,,,,,,,,,,,,,,,,,,,,,,,,,,,,,,,,,,,,,,,,,,,,,,,,,,,,,,,,,,,,,,,,,,,,,,,,,,,,,,,,,,,,,,,,,,,,,,,,,,,,,,,,,,,,,,,,,,,,,,,,,,,,,,,,,,,,,,,,,,,,,,,,,,,,,,,\\r\\n\"NCT05913271\\tStudy on the Correlation Between NAT2(N-acetyltransferase2) Gene Polymorphism and CrCl(Creatine Clreance) and the Efficacy and Safety of Levosimendan in Patients With Severe Heart Failure\\t\\tRECRUITING\\tHeart Failure|Levosimendan|Efficacy|Safety\\t\\tYi Han\\tQianfoshan Hospital\\t352.0\\tOTHER\\tOBSERVATIONAL\\tObservational Model: |Time Perspective: p\\t2023-05-30\\t2025-05-30\",,,,,,,,,,,,,,,,,,,,,,,,,,,,,,,,,,,,,,,,,,,,,,,,,,,,,,,,,,,,,,,,,,,,,,,,,,,,,,,,,,,,,,,,,,,,,,,,,,,,,,,,,,,,,,,,,,,,,,,,,,,,,,,,,,,,,,,,,,,,,,,,,,,,,,,,,,,,,,,,,,,,,,,,,,,,,,,,,,,,,,,,,,,,,,,,,,,,,,,,,,,,,,,,,,\\r\\n\"NCT04006171\\tComparison of Serum C Type Natriuretic Peptide Levels Between Polycystic Ovary Syndrome Patients and Healthy Women\\tCNP\\tCOMPLETED\\tPolycystic Ovary Syndrome|c Type Natriuretic Peptide|Menstrual Irregularity|Hyperandrogenism\\tDIAGNOSTIC_TEST: C type natriuretic peptide\\tNear East University\",\" Turkey\\t\\t90.0\\tOTHER\\tINTERVENTIONAL\\tAllocation: NON_RANDOMIZED|Intervention Model: PARALLEL|Masking: NONE|Primary Purpose: DIAGNOSTIC\\t2019-07-15\\t2020-09-01\",,,,,,,,,,,,,,,,,,,,,,,,,,,,,,,,,,,,,,,,,,,,,,,,,,,,,,,,,,,,,,,,,,,,,,,,,,,,,,,,,,,,,,,,,,,,,,,,,,,,,,,,,,,,,,,,,,,,,,,,,,,,,,,,,,,,,,,,,,,,,,,,,,,,,,,,,,,,,,,,,,,,,,,,,,,,,,,,,,,,,,,,,,,,,,,,,,,,,,,,,,,,,,,,,\\r\\n\"NCT04370171\\tManagement of Diabetic Patients With Telemedicine in the Context of the Covid-19 Epidemic\\tTeleCoviDiab\\tCOMPLETED\\tDiabetes|Covid-19\\tOTHER: care modalities|OTHER: Teleconsultation either by phone or by computer consultation\\tUniversity Hospital\", Strasbourg,\" France\\t\\t610.0\\tOTHER\\tOBSERVATIONAL\\tObservational Model: |Time Perspective: p\\t2020-05-04\\t2020-05-29\",,,,,,,,,,,,,,,,,,,,,,,,,,,,,,,,,,,,,,,,,,,,,,,,,,,,,,,,,,,,,,,,,,,,,,,,,,,,,,,,,,,,,,,,,,,,,,,,,,,,,,,,,,,,,,,,,,,,,,,,,,,,,,,,,,,,,,,,,,,,,,,,,,,,,,,,,,,,,,,,,,,,,,,,,,,,,,,,,,,,,,,,,,,,,,,,,,,,,,,,,,,,,,,,\\r\\n\"NCT04340271\\tThe Clinical Utility of Extracorporeal Shock Wave Therapy on Burns\\t\\tCOMPLETED\\tBurn Scar\\tOTHER: Extracorporeal shock wave therapy|OTHER: conventional occupational therapy\\tHangang Sacred Heart Hospital\\t\\t48.0\\tOTHER\\tINTERVENTIONAL\\tAllocation: RANDOMIZED|Inter\n\n*** WARNING: max output size exceeded, skipping output. ***\n\n,,,,,,,,,,,,,,,,,,,,,,,,,,,,,,,,,,,,,,,,,,,,,,,,,,,,,,,,,,,,,,,,,,,,,,,,,,,,,,,,,,,,,,,,,,,,,,,,,,,,,,,,,,,,,,,,,,,,,,,,,,,,,,,,,,,,,,,,,,,,,,,,,\\r\\n\"NCT05974371\\tEpisodic Memory Integration and Interference\\t\\tNOT_YET_RECRUITING\\tEpisodic Memory\\tOTHER: emotional context similarity\\tBoston College\\t\\t150.0\\tOTHER\\tINTERVENTIONAL\\tAllocation: NA|Intervention Model: SINGLE_GROUP|Masking: NONE|Primary Purpose: BASIC_SCIENCE\\t2024-08\\t2027-08\",,,,,,,,,,,,,,,,,,,,,,,,,,,,,,,,,,,,,,,,,,,,,,,,,,,,,,,,,,,,,,,,,,,,,,,,,,,,,,,,,,,,,,,,,,,,,,,,,,,,,,,,,,,,,,,,,,,,,,,,,,,,,,,,,,,,,,,,,,,,,,,,,,,,,,,,,,,,,,,,,,,,,,,,,,,,,,,,,,,,,,,,,,,,,,,,,,,,,,,,,,,,,,,,,,\\r\\n\"NCT03713671\\tGait and Balance Parameters Before and After Parathyroidectomy in Patients With Primary Hyperparathyroidism\\t\\tCOMPLETED\\tPrimary Hyperparathyroidism\\tDIAGNOSTIC_TEST: gait analysis\\tRecep Tayyip Erdogan University Training and Research Hospital\\tHacettepe University|Ankara Education and Research Hospital\\t40.0\\tOTHER\\tINTERVENTIONAL\\tAllocation: RANDOMIZED|Intervention Model: PARALLEL|Masking: SINGLE (OUTCOMES_ASSESSOR)|Primary Purpose: SCREENING\\t2021-10-17\\t2023-08-27\",,,,,,,,,,,,,,,,,,,,,,,,,,,,,,,,,,,,,,,,,,,,,,,,,,,,,,,,,,,,,,,,,,,,,,,,,,,,,,,,,,,,,,,,,,,,,,,,,,,,,,,,,,,,,,,,,,,,,,,,,,,,,,,,,,,,,,,,,,,,,,,,,,,,,,,,,,,,,,,,,,,,,,,,,,,,,,,,,,,,,,,,,,,,,,,,,,,,,,,,,,,,,,,,,,\\r\\n\"NCT02645071\\tBrief Program in Reducing Sedentary Behavior and Promoting Physical Exercise\\t\\tCOMPLETED\\tPhysical Activity\\tBEHAVIORAL: Physical Activity\\tThe University of Hong Kong\\tHong Kong Jockey Club Charities Trust\\t141.0\\tOTHER\\tINTERVENTIONAL\\tAllocation: NA|Intervention Model: SINGLE_GROUP|Masking: NONE|Primary Purpose: PREVENTION\\t2015-07\\t2017-07\",,,,,,,,,,,,,,,,,,,,,,,,,,,,,,,,,,,,,,,,,,,,,,,,,,,,,,,,,,,,,,,,,,,,,,,,,,,,,,,,,,,,,,,,,,,,,,,,,,,,,,,,,,,,,,,,,,,,,,,,,,,,,,,,,,,,,,,,,,,,,,,,,,,,,,,,,,,,,,,,,,,,,,,,,,,,,,,,,,,,,,,,,,,,,,,,,,,,,,,,,,,,,,,,,,\\r\\n\"NCT04004871\\tInduction Chemotherapy With Nab-paclitaxel\",\" Cisplatin and Fluorouracil for Locoregionally Advanced Nasopharyngeal Carcinoma\\t\\tUNKNOWN\\tNasopharyngeal Carcinoma|Nasopharyngeal Cancer|Nasopharynx Cancer\\tDRUG: Nab-paclitaxel\",\" Cisplatin and Fluorouracil|RADIATION: concurrent chemoradiotherapy\\tGuangxi Medical University\\tSecond Affiliated Hospital of Guangxi Medical University|Guilin Medical University\",\" China|Liuzhou Workers Hospital|Wuzhou Red Cross Hospital\\t60.0\\tOTHER\\tINTERVENTIONAL\\tAllocation: NA|Intervention Model: SINGLE_GROUP|Masking: NONE|Primary Purpose: TREATMENT\\t2019-07-05\\t2022-06-30\",,,,,,,,,,,,,,,,,,,,,,,,,,,,,,,,,,,,,,,,,,,,,,,,,,,,,,,,,,,,,,,,,,,,,,,,,,,,,,,,,,,,,,,,,,,,,,,,,,,,,,,,,,,,,,,,,,,,,,,,,,,,,,,,,,,,,,,,,,,,,,,,,,,,,,,,,,,,,,,,,,,,,,,,,,,,,,,,,,,,,,,,,,,,,,,,,,,,,,,,,,,,,,,\\r\\n\"NCT05953571\\tLaparoscopic Assisted Dismembered Pyeloplasty Versus Open Pyeloplasty in (UPJO) With Poorly Function Kidney in Pediatrics\\t\\tCOMPLETED\\tUretro-pelvic Junction Obstruction|Poorly Function Kidney\\tPROCEDURE: Dismembered Pyeloplasty\\tAl-Azhar University\\tUniversity Hospital Fattouma Bourguiba\\t65.0\\tOTHER\\tOBSERVATIONAL\\tObservational Model: |Time Perspective: p\\t2022-01-08\\t2023-06-30\",,,,,,,,,,,,,,,,,,,,,,,,,,,,,,,,,,,,,,,,,,,,,,,,,,,,,,,,,,,,,,,,,,,,,,,,,,,,,,,,,,,,,,,,,,,,,,,,,,,,,,,,,,,,,,,,,,,,,,,,,,,,,,,,,,,,,,,,,,,,,,,,,,,,,,,,,,,,,,,,,,,,,,,,,,,,,,,,,,,,,,,,,,,,,,,,,,,,,,,,,,,,,,,,,,\\r\\n\"NCT02570971\\tMannitol Versus Supportive Care in Ciguatera Fish Poisoning\\t\\tUNKNOWN\\tCiguatoxin\\tDRUG: Mannitol\\tUniversity of South Florida\\tFlorida Poison Control Center\\t200.0\\tOTHER\\tINTERVENTIONAL\\tAllocation: RANDOMIZED|Intervention Model: SINGLE_GROUP|Masking: TRIPLE (PARTICIPANT\", CARE_PROVIDER,\" INVESTIGATOR)|Primary Purpose: TREATMENT\\t2015-10\\t\",,,,,,,,,,,,,,,,,,,,,,,,,,,,,,,,,,,,,,,,,,,,,,,,,,,,,,,,,,,,,,,,,,,,,,,,,,,,,,,,,,,,,,,,,,,,,,,,,,,,,,,,,,,,,,,,,,,,,,,,,,,,,,,,,,,,,,,,,,,,,,,,,,,,,,,,,,,,,,,,,,,,,,,,,,,,,,,,,,,,,,,,,,,,,,,,,,,,,,,,,,,,,,,,\\r\\n\"NCT03987971\\tAcupuncture on GB26 to Treat Chronic Low Back Pain\\t\\tUNKNOWN\\tChronic Low-back Pain\\tOTHER: acupuncture\\tWenzhou Medical University\\tQingtian People\\'s hospital\\t114.0\\tOTHER\\tINTERVENTIONAL\\tAllocation: RANDOMIZED|Intervention Model: PARALLEL|Masking: TRIPLE (PARTICIPANT\", INVESTIGATOR,\" OUTCOMES_ASSESSOR)|Primary Purpose: TREATMENT\\t2020-01\\t2021-07\",,,,,,,,,,,,,,,,,,,,,,,,,,,,,,,,,,,,,,,,,,,,,,,,,,,,,,,,,,,,,,,,,,,,,,,,,,,,,,,,,,,,,,,,,,,,,,,,,,,,,,,,,,,,,,,,,,,,,,,,,,,,,,,,,,,,,,,,,,,,,,,,,,,,,,,,,,,,,,,,,,,,,,,,,,,,,,,,,,,,,,,,,,,,,,,,,,,,,,,,,,,,,,,,\\r\\n\"NCT01425671\\tNeural Oscillations as Genetic and Functional Biomarkers in Normal and Disease States\\t\\tACTIVE_NOT_RECRUITING\\tSchizophrenia|Schizoaffective Disorder|Schizophreniform Disorder\\t\\tUniversity of Maryland\",\" Baltimore\\tNational Institute of Mental Health (NIMH)\\t800.0\\tOTHER\\tOBSERVATIONAL\\tObservational Model: |Time Perspective: p\\t2010-11-30\\t2024-06\",,,,,,,,,,,,,,,,,,,,,,,,,,,,,,,,,,,,,,,,,,,,,,,,,,,,,,,,,,,,,,,,,,,,,,,,,,,,,,,,,,,,,,,,,,,,,,,,,,,,,,,,,,,,,,,,,,,,,,,,,,,,,,,,,,,,,,,,,,,,,,,,,,,,,,,,,,,,,,,,,,,,,,,,,,,,,,,,,,,,,,,,,,,,,,,,,,,,,,,,,,,,,,,,,\\r\\n\"NCT04962971\\tComparative Effect of 3 Different Cranberry Extracts on Cystitis Related Urinary Comfort in Women\\t\\tCOMPLETED\\tRecurrent Cystitis\\tDIETARY_SUPPLEMENT: X|DIETARY_SUPPLEMENT: Y|DIETARY_SUPPLEMENT: Z\\tCEN Biotech\\tNexira|CEN Nutriment\\t216.0\\tINDUSTRY\\tOBSERVATIONAL\\tObservational Model: |Time Perspective: p\\t2020-09-01\\t2022-02-01\",,,,,,,,,,,,,,,,,,,,,,,,,,,,,,,,,,,,,,,,,,,,,,,,,,,,,,,,,,,,,,,,,,,,,,,,,,,,,,,,,,,,,,,,,,,,,,,,,,,,,,,,,,,,,,,,,,,,,,,,,,,,,,,,,,,,,,,,,,,,,,,,,,,,,,,,,,,,,,,,,,,,,,,,,,,,,,,,,,,,,,,,,,,,,,,,,,,,,,,,,,,,,,,,,,\\r\\n\"NCT02827071\\tOcular Imaging Study Using Advanced OCT\\t\\tUNKNOWN\\tRetinal Vascular Disorder|Macular Degeneration\\t\\tUniversity of California\",\" Los Angeles\\t\\t1000.0\\tOTHER\\tOBSERVATIONAL\\tObservational Model: |Time Perspective: p\\t2016-07\\t\",,,,,,,,,,,,,,,,,,,,,,,,,,,,,,,,,,,,,,,,,,,,,,,,,,,,,,,,,,,,,,,,,,,,,,,,,,,,,,,,,,,,,,,,,,,,,,,,,,,,,,,,,,,,,,,,,,,,,,,,,,,,,,,,,,,,,,,,,,,,,,,,,,,,,,,,,,,,,,,,,,,,,,,,,,,,,,,,,,,,,,,,,,,,,,,,,,,,,,,,,,,,,,,,,\\r\\n\"NCT04236271\\tTELEsurveillance of Patients in PostopErative Bridge surgeryAge CoronairE\\tTELE-PEACE\\tCOMPLETED\\tCoronary Artery Bypass\\tDEVICE: connected objects\\tAssistance Publique - Hôpitaux de Paris\\tGFI\\t33.0\\tOTHER\\tINTERVENTIONAL\\tAllocation: NA|Intervention Model: SINGLE_GROUP|Masking: NONE|Primary Purpose: OTHER\\t2020-03-13\\t2022-12-31\",,,,,,,,,,,,,,,,,,,,,,,,,,,,,,,,,,,,,,,,,,,,,,,,,,,,,,,,,,,,,,,,,,,,,,,,,,,,,,,,,,,,,,,,,,,,,,,,,,,,,,,,,,,,,,,,,,,,,,,,,,,,,,,,,,,,,,,,,,,,,,,,,,,,,,,,,,,,,,,,,,,,,,,,,,,,,,,,,,,,,,,,,,,,,,,,,,,,,,,,,,,,,,,,,,\\r\\n\"NCT01780571\\tCPAP/PSV Preoxygenation in Obese Patients\\t\\tCOMPLETED\\tObesity|Anaesthesia\\tPROCEDURE: CPAP 5 cm H2O + PSV 5 cm H2O\\tKarolinska Institutet\\t\\t44.0\\tOTHER\\tINTERVENTIONAL\\tAllocation: RANDOMIZED|Intervention Model: PARALLEL|Masking: SINGLE (PARTICIPANT)|Primary Purpose: PREVENTION\\t2009-05\\t2012-12\",,,,,,,,,,,,,,,,,,,,,,,,,,,,,,,,,,,,,,,,,,,,,,,,,,,,,,,,,,,,,,,,,,,,,,,,,,,,,,,,,,,,,,,,,,,,,,,,,,,,,,,,,,,,,,,,,,,,,,,,,,,,,,,,,,,,,,,,,,,,,,,,,,,,,,,,,,,,,,,,,,,,,,,,,,,,,,,,,,,,,,,,,,,,,,,,,,,,,,,,,,,,,,,,,,\\r\\n\"NCT05078671\\tPharmacokinetic Boosting of Olaparib to Improve Exposure\",\" Tolerance and Cost-effectiveness\\tPROACTIVE\\tRECRUITING\\tCancer\\tDRUG: Olaparib|DRUG: Cobicistat\\tRadboud University Medical Center\\t\\t160.0\\tOTHER\\tINTERVENTIONAL\\tAllocation: RANDOMIZED|Intervention Model: PARALLEL|Masking: NONE|Primary Purpose: TREATMENT\\t2021-12-15\\t2025-12-31\",,,,,,,,,,,,,,,,,,,,,,,,,,,,,,,,,,,,,,,,,,,,,,,,,,,,,,,,,,,,,,,,,,,,,,,,,,,,,,,,,,,,,,,,,,,,,,,,,,,,,,,,,,,,,,,,,,,,,,,,,,,,,,,,,,,,,,,,,,,,,,,,,,,,,,,,,,,,,,,,,,,,,,,,,,,,,,,,,,,,,,,,,,,,,,,,,,,,,,,,,,,,,,,,,\\r\\n\"NCT02529371\\tPre-Marketing Feasibility Evaluation of the UriCap-RM - Urine Collection in Hospitalized Male Patients\\t\\tUNKNOWN\\tUrinary Incontinence\\tDEVICE: UriCap-RM\\tG.R. Dome Medical Ltd.\\t\\t30.0\\tINDUSTRY\\tINTERVENTIONAL\\tAllocation: NA|Intervention Model: SINGLE_GROUP|Masking: NONE|Primary Purpose: SUPPORTIVE_CARE\\t2015-09\\t2015-10\",,,,,,,,,,,,,,,,,,,,,,,,,,,,,,,,,,,,,,,,,,,,,,,,,,,,,,,,,,,,,,,,,,,,,,,,,,,,,,,,,,,,,,,,,,,,,,,,,,,,,,,,,,,,,,,,,,,,,,,,,,,,,,,,,,,,,,,,,,,,,,,,,,,,,,,,,,,,,,,,,,,,,,,,,,,,,,,,,,,,,,,,,,,,,,,,,,,,,,,,,,,,,,,,,,\\r\\n\"NCT02309671\\tA Dose-response Trial Using FE 999049 in Japanese Women Undergoing in Vitro Fertilisation (IVF) / Intracytoplasmic Sperm Injection (ICSI) Treatment\\t\\tCOMPLETED\\tInfertility\\tDRUG: FE 999049|DRUG: follitropin beta\\tFerring Pharmaceuticals\\t\\t159.0\\tINDUSTRY\\tINTERVENTIONAL\\tAllocation: RANDOMIZED|Intervention Model: PARALLEL|Masking: SINGLE (OUTCOMES_ASSESSOR)|Primary Purpose: TREATMENT\\t2014-12\\t2016-09\",,,,,,,,,,,,,,,,,,,,,,,,,,,,,,,,,,,,,,,,,,,,,,,,,,,,,,,,,,,,,,,,,,,,,,,,,,,,,,,,,,,,,,,,,,,,,,,,,,,,,,,,,,,,,,,,,,,,,,,,,,,,,,,,,,,,,,,,,,,,,,,,,,,,,,,,,,,,,,,,,,,,,,,,,,,,,,,,,,,,,,,,,,,,,,,,,,,,,,,,,,,,,,,,,,\\r\\n\"NCT03876171\\tCulturally Modified Family Based Therapy for Haitian Youth in South Florida\\t\\tCOMPLETED\\tProblem Behavior\\tBEHAVIORAL: Haitian youth and family intervention study: family functioning|BEHAVIORAL: Haitian youth intervention study: youth psychoeducational|BEHAVIORAL: Haitian family intervention study: family psychoeducational|BEHAVIORAL: Diversion Programs\\tUniversity of Miami\\tNational Institute on Drug Abuse (NIDA)\\t44.0\\tOTHER\\tINTERVENTIONAL\\tAllocation: RANDOMIZED|Intervention Model: PARALLEL|Masking: SINGLE (PARTICIPANT)|Primary Purpose: TREATMENT\\t2019-04-01\\t2022-12-31\",,,,,,,,,,,,,,,,,,,,,,,,,,,,,,,,,,,,,,,,,,,,,,,,,,,,,,,,,,,,,,,,,,,,,,,,,,,,,,,,,,,,,,,,,,,,,,,,,,,,,,,,,,,,,,,,,,,,,,,,,,,,,,,,,,,,,,,,,,,,,,,,,,,,,,,,,,,,,,,,,,,,,,,,,,,,,,,,,,,,,,,,,,,,,,,,,,,,,,,,,,,,,,,,,,\\r\\n\"NCT05031871\\tPharmacokinetics of HR17031 Injection in Healthy Subjects\\t\\tCOMPLETED\\tType 2 Diabetes Mellitus\\tDRUG: HR17031 injection ；INS068 injection；SHR20004 injection|DRUG: HR17031 injection ；INS068 injection；SHR20004 injection|DRUG: HR17031 injection ；INS068 injection；SHR20004 injection|DRUG: HR17031 injection ；INS068 injection；SHR20004 injection\\tJiangsu HengRui Medicine Co.\",\" Ltd.\\t\\t24.0\\tINDUSTRY\\tINTERVENTIONAL\\tAllocation: RANDOMIZED|Intervention Model: CROSSOVER|Masking: NONE|Primary Purpose: TREATMENT\\t2021-09-02\\t2021-11-19\",,,,,,,,,,,,,,,,,,,,,,,,,,,,,,,,,,,,,,,,,,,,,,,,,,,,,,,,,,,,,,,,,,,,,,,,,,,,,,,,,,,,,,,,,,,,,,,,,,,,,,,,,,,,,,,,,,,,,,,,,,,,,,,,,,,,,,,,,,,,,,,,,,,,,,,,,,,,,,,,,,,,,,,,,,,,,,,,,,,,,,,,,,,,,,,,,,,,,,,,,,,,,,,,,\\r\\n\"NCT04769271\\tIntra-pocket Application of Tea Tree Oil Gel in the Treatment of Stage-2 Periodontitis\\t\\tCOMPLETED\\tPeriodontitis\\tPROCEDURE: Scaling and Root Planing|DRUG: Scaling and Root Planing with tea tree oil\\tAlexandria University\\t\\t30.0\\tOTHER\\tINTERVENTIONAL\\tAllocation: RANDOMIZED|Intervention Model: PARALLEL|Masking: SINGLE (OUTCOMES_ASSESSOR)|Primary Purpose: TREATMENT\\t2019-11-10\\t2020-08-25\",,,,,,,,,,,,,,,,,,,,,,,,,,,,,,,,,,,,,,,,,,,,,,,,,,,,,,,,,,,,,,,,,,,,,,,,,,,,,,,,,,,,,,,,,,,,,,,,,,,,,,,,,,,,,,,,,,,,,,,,,,,,,,,,,,,,,,,,,,,,,,,,,,,,,,,,,,,,,,,,,,,,,,,,,,,,,,,,,,,,,,,,,,,,,,,,,,,,,,,,,,,,,,,,,,\\r\\n\"NCT06044571\\tOptimizing Telehealth-delivery of a Weight Loss Intervention in Older Adults\\t\\tNOT_YET_RECRUITING\\tObesity|Multiple Chronic Conditions\\tOTHER: Prescriptive|BEHAVIORAL: Behavioral\\tUniversity of North Carolina\",\" Chapel Hill\\tNational Institute on Aging (NIA)\\t180.0\\tOTHER\\tINTERVENTIONAL\\tAllocation: RANDOMIZED|Intervention Model: SEQUENTIAL|Masking: DOUBLE (PARTICIPANT\",\" CARE_PROVIDER)|Primary Purpose: TREATMENT\\t2024-03-01\\t2027-09-01\",,,,,,,,,,,,,,,,,,,,,,,,,,,,,,,,,,,,,,,,,,,,,,,,,,,,,,,,,,,,,,,,,,,,,,,,,,,,,,,,,,,,,,,,,,,,,,,,,,,,,,,,,,,,,,,,,,,,,,,,,,,,,,,,,,,,,,,,,,,,,,,,,,,,,,,,,,,,,,,,,,,,,,,,,,,,,,,,,,,,,,,,,,,,,,,,,,,,,,,,,,,,,,,,\\r\\n\"NCT01889771\\tA Cost-effectiveness Study of Nicotine Patches Distributed Through a Quitline\\t\\tCOMPLETED\\tSmoking Cessation\\tDRUG: Nicotine Patch\\tUniversity of Colorado\",\" Denver\\t\\t1495.0\\tOTHER\\tINTERVENTIONAL\\tAllocation: RANDOMIZED|Intervention Model: PARALLEL|Masking: NONE|Primary Purpose: HEALTH_SERVICES_RESEARCH\\t2010-03\\t2012-03\",,,,,,,,,,,,,,,,,,,,,,,,,,,,,,,,,,,,,,,,,,,,,,,,,,,,,,,,,,,,,,,,,,,,,,,,,,,,,,,,,,,,,,,,,,,,,,,,,,,,,,,,,,,,,,,,,,,,,,,,,,,,,,,,,,,,,,,,,,,,,,,,,,,,,,,,,,,,,,,,,,,,,,,,,,,,,,,,,,,,,,,,,,,,,,,,,,,,,,,,,,,,,,,,,\\r\\n\"NCT03077971\\tEffectiveness of Acceptance and Commitment Therapy Self-Help for Carers of People With Multiple Sclerosis\\t\\tUNKNOWN\\tCarer Stress Syndrome\\tBEHAVIORAL: ACT Self-Help|BEHAVIORAL: ACT Self-Help with Telephone Support\\tUniversity of Nottingham\\t\\t24.0\\tOTHER\\tINTERVENTIONAL\\tAllocation: RANDOMIZED|Intervention Model: PARALLEL|Masking: SINGLE (OUTCOMES_ASSESSOR)|Primary Purpose: SUPPORTIVE_CARE\\t2016-12-01\\t2018-06\",,,,,,,,,,,,,,,,,,,,,,,,,,,,,,,,,,,,,,,,,,,,,,,,,,,,,,,,,,,,,,,,,,,,,,,,,,,,,,,,,,,,,,,,,,,,,,,,,,,,,,,,,,,,,,,,,,,,,,,,,,,,,,,,,,,,,,,,,,,,,,,,,,,,,,,,,,,,,,,,,,,,,,,,,,,,,,,,,,,,,,,,,,,,,,,,,,,,,,,,,,,,,,,,,,\\r\\n\"NCT02912871\\tSubthalamotomy by ExAblate Transcranial System to Treat Motor Features of Parkinson\\'s Disease\\t\\tCOMPLETED\\tParkinson\\'s Disease\\tOTHER: MRIgHIFU unilateral subthalamotomy\\tFundación de investigación HM\\tInsightech\\t10.0\\tOTHER\\tINTERVENTIONAL\\tAllocation: NA|Intervention Model: SINGLE_GROUP|Masking: NONE|Primary Purpose: TREATMENT\\t2016-04\\t2017-01\",,,,,,,,,,,,,,,,,,,,,,,,,,,,,,,,,,,,,,,,,,,,,,,,,,,,,,,,,,,,,,,,,,,,,,,,,,,,,,,,,,,,,,,,,,,,,,,,,,,,,,,,,,,,,,,,,,,,,,,,,,,,,,,,,,,,,,,,,,,,,,,,,,,,,,,,,,,,,,,,,,,,,,,,,,,,,,,,,,,,,,,,,,,,,,,,,,,,,,,,,,,,,,,,,,\\r\\n\"NCT03548571\\tDendritic Cell Immunotherapy Against Cancer Stem Cells in Glioblastoma Patients Receiving Standard Therapy\\tDEN-STEM\\tACTIVE_NOT_RECRUITING\\tGlioblastoma\\tBIOLOGICAL: Dendritic cell immunization|DRUG: Adjuvant temozolomide\\tOslo University Hospital\\t\\t60.0\\tOTHER\\tINTERVENTIONAL\\tAllocation: RANDOMIZED|Intervention Model: PARALLEL|Masking: NONE|Primary Purpose: TREATMENT\\t2018-04-26\\t2025-05-01\",,,,,,,,,,,,,,,,,,,,,,,,,,,,,,,,,,,,,,,,,,,,,,,,,,,,,,,,,,,,,,,,,,,,,,,,,,,,,,,,,,,,,,,,,,,,,,,,,,,,,,,,,,,,,,,,,,,,,,,,,,,,,,,,,,,,,,,,,,,,,,,,,,,,,,,,,,,,,,,,,,,,,,,,,,,,,,,,,,,,,,,,,,,,,,,,,,,,,,,,,,,,,,,,,,\\r\\n\"NCT01449071\\tStudy Evaluating the Pharmacokinetics and Safety of Epratuzumab in Japanese Systemic Lupus Erythematosus (SLE)\\t\\tCOMPLETED\\tSystemic Lupus Erythematosus\\tBIOLOGICAL: Placebo|BIOLOGICAL: Epratuzumab 400 mg|BIOLOGICAL: Epratuzumab 1200 mg|BIOLOGICAL: Epratuzumab 100 mg|BIOLOGICAL: Epratuzumab 600 mg\\tUCB Pharma\\t\\t20.0\\tINDUSTRY\\tINTERVENTIONAL\\tAllocation: RANDOMIZED|Intervention Model: PARALLEL|Masking: QUADRUPLE (PARTICIPANT\", CARE_PROVIDER, INVESTIGATOR,\" OUTCOMES_ASSESSOR)|Primary Purpose: TREATMENT\\t2011-10\\t2013-03\",,,,,,,,,,,,,,,,,,,,,,,,,,,,,,,,,,,,,,,,,,,,,,,,,,,,,,,,,,,,,,,,,,,,,,,,,,,,,,,,,,,,,,,,,,,,,,,,,,,,,,,,,,,,,,,,,,,,,,,,,,,,,,,,,,,,,,,,,,,,,,,,,,,,,,,,,,,,,,,,,,,,,,,,,,,,,,,,,,,,,,,,,,,,,,,,,,,,,,,,,,,,,,,\\r\\n\"NCT03530371\\tIntranasal Dexmedetomidine for Sedated Hearing Testing\\t\\tCOMPLETED\\tAuditory Brainstem Response\\tDRUG: Dexmedetomidine Hydrochloride\\tFondation Lenval\\t\\t60.0\\tOTHER\\tINTERVENTIONAL\\tAllocation: NA|Intervention Model: SINGLE_GROUP|Masking: NONE|Primary Purpose: DIAGNOSTIC\\t2019-05-02\\t2021-12-31\",,,,,,,,,,,,,,,,,,,,,,,,,,,,,,,,,,,,,,,,,,,,,,,,,,,,,,,,,,,,,,,,,,,,,,,,,,,,,,,,,,,,,,,,,,,,,,,,,,,,,,,,,,,,,,,,,,,,,,,,,,,,,,,,,,,,,,,,,,,,,,,,,,,,,,,,,,,,,,,,,,,,,,,,,,,,,,,,,,,,,,,,,,,,,,,,,,,,,,,,,,,,,,,,,,\\r\\n\"NCT05921071\\tDo Patients Who Received Tranexamic Acid in Vaginal Hysterectomy Loose Les Blood\",\" Comparing to Patients Who Did Not?\\t\\tRECRUITING\\tVaginal Hysterectomy\\tDRUG: Tranexamic acid|DRUG: Placebo\\tWolfson Medical Center\\t\\t150.0\\tOTHER_GOV\\tINTERVENTIONAL\\tAllocation: RANDOMIZED|Intervention Model: PARALLEL|Masking: TRIPLE (PARTICIPANT\", CARE_PROVIDER,\" OUTCOMES_ASSESSOR)|Primary Purpose: SUPPORTIVE_CARE\\t2023-01-22\\t2025-01-01\",,,,,,,,,,,,,,,,,,,,,,,,,,,,,,,,,,,,,,,,,,,,,,,,,,,,,,,,,,,,,,,,,,,,,,,,,,,,,,,,,,,,,,,,,,,,,,,,,,,,,,,,,,,,,,,,,,,,,,,,,,,,,,,,,,,,,,,,,,,,,,,,,,,,,,,,,,,,,,,,,,,,,,,,,,,,,,,,,,,,,,,,,,,,,,,,,,,,,,,,,,,,,,,\\r\\n\"NCT04974671\\tTrial Of Stereotactic Body Radiation Therapy (SBRT) for Oligoprogression on Immune Checkpoint Inhibitors (ICI) in Metastatic Renal Cell Carcinoma\\t\\tRECRUITING\\tRenal Cell Carcinoma|Metastatic Renal Cell Carcinoma|Oligoprogressive|Progression\\tRADIATION: Stereotactic Body Radiation Therapy\\tYale University\\t\\t30.0\\tOTHER\\tINTERVENTIONAL\\tAllocation: NA|Intervention Model: SINGLE_GROUP|Masking: NONE|Primary Purpose: TREATMENT\\t2022-08-08\\t2027-04-01\",,,,,,,,,,,,,,,,,,,,,,,,,,,,,,,,,,,,,,,,,,,,,,,,,,,,,,,,,,,,,,,,,,,,,,,,,,,,,,,,,,,,,,,,,,,,,,,,,,,,,,,,,,,,,,,,,,,,,,,,,,,,,,,,,,,,,,,,,,,,,,,,,,,,,,,,,,,,,,,,,,,,,,,,,,,,,,,,,,,,,,,,,,,,,,,,,,,,,,,,,,,,,,,,,,\\r\\n\"NCT00080171\\tOsteoarthritis Initiative (OAI): A Knee Health Study\\t\\tCOMPLETED\\tOsteoarthritis|Knee Osteoarthritis\\t\\tNational Institute of Arthritis and Musculoskeletal and Skin Diseases (NIAMS)\\tGlaxoSmithKline|Merck Sharp & Dohme LLC|Novartis|Pfizer\\t4796.0\\tNIH\\tOBSERVATIONAL\\tObservational Model: |Time Perspective: p\\t2004-02\\t2015-10\",,,,,,,,,,,,,,,,,,,,,,,,,,,,,,,,,,,,,,,,,,,,,,,,,,,,,,,,,,,,,,,,,,,,,,,,,,,,,,,,,,,,,,,,,,,,,,,,,,,,,,,,,,,,,,,,,,,,,,,,,,,,,,,,,,,,,,,,,,,,,,,,,,,,,,,,,,,,,,,,,,,,,,,,,,,,,,,,,,,,,,,,,,,,,,,,,,,,,,,,,,,,,,,,,,\\r\\n\"NCT00368771\\tA Six-month Study to Compare Outcome Differences and Visceral Response ... Irritable Bowel Syndrome\\t\\tCOMPLETED\\tIrritable Bowel Syndrome\\tBEHAVIORAL: IBS Stress Management|BEHAVIORAL: IBS Symptom Management|BEHAVIORAL: IBS Educational Training\\tUniversity of California\",\" Los Angeles\\tNational Institute of Nursing Research (NINR)\\t163.0\\tOTHER\\tINTERVENTIONAL\\tAllocation: RANDOMIZED|Intervention Model: PARALLEL|Masking: NONE|Primary Purpose: TREATMENT\\t2002-07\\t2010-05\",,,,,,,,,,,,,,,,,,,,,,,,,,,,,,,,,,,,,,,,,,,,,,,,,,,,,,,,,,,,,,,,,,,,,,,,,,,,,,,,,,,,,,,,,,,,,,,,,,,,,,,,,,,,,,,,,,,,,,,,,,,,,,,,,,,,,,,,,,,,,,,,,,,,,,,,,,,,,,,,,,,,,,,,,,,,,,,,,,,,,,,,,,,,,,,,,,,,,,,,,,,,,,,,,\\r\\n\"NCT04979871\\tSARS-CoV-2 Antibodies and Virus Neutralisation in a Cohort Vaccinted Against COVID-19\\tDER-CoV2-001\\tCOMPLETED\\tVaccine Reaction\\tPROCEDURE: Venous bleeding\\tUniversity of Zurich\\t\\t50.0\\tOTHER\\tOBSERVATIONAL\\tObservational Model: |Time Perspective: p\\t2021-07-22\\t2021-12-31\",,,,,,,,,,,,,,,,,,,,,,,,,,,,,,,,,,,,,,,,,,,,,,,,,,,,,,,,,,,,,,,,,,,,,,,,,,,,,,,,,,,,,,,,,,,,,,,,,,,,,,,,,,,,,,,,,,,,,,,,,,,,,,,,,,,,,,,,,,,,,,,,,,,,,,,,,,,,,,,,,,,,,,,,,,,,,,,,,,,,,,,,,,,,,,,,,,,,,,,,,,,,,,,,,,\\r\\n\"NCT04097171\\tThe Effect of Diet Composition on Performance\", Expenditure, Blood Lipids,\" and Appetite Hormones in Highly Trained Cyclists\\tDCAP\\tCOMPLETED\\tEndurance Cycling Performance\\tOTHER: Diet\\tTexas Christian University\\t\\t34.0\\tOTHER\\tINTERVENTIONAL\\tAllocation: RANDOMIZED|Intervention Model: CROSSOVER|Masking: NONE|Primary Purpose: BASIC_SCIENCE\\t2019-11-11\\t2020-03-30\",,,,,,,,,,,,,,,,,,,,,,,,,,,,,,,,,,,,,,,,,,,,,,,,,,,,,,,,,,,,,,,,,,,,,,,,,,,,,,,,,,,,,,,,,,,,,,,,,,,,,,,,,,,,,,,,,,,,,,,,,,,,,,,,,,,,,,,,,,,,,,,,,,,,,,,,,,,,,,,,,,,,,,,,,,,,,,,,,,,,,,,,,,,,,,,,,,,,,,,,,,,,,,,\\r\\n\"NCT06199271\\tNeoadjuvant Adebrelimab Plus Dalpiciclib in Head and Neck Squamous Cell Carcinoma\\t\\tNOT_YET_RECRUITING\\tHead and Neck Squamous Cell Carcinoma\\tDRUG: Adebrelimab and dalpiciclib\\tZhongzheng Xiang\\t\\t30.0\\tOTHER\\tINTERVENTIONAL\\tAllocation: NA|Intervention Model: SINGLE_GROUP|Masking: NONE|Primary Purpose: TREATMENT\\t2024-01-31\\t2026-12-31\",,,,,,,,,,,,,,,,,,,,,,,,,,,,,,,,,,,,,,,,,,,,,,,,,,,,,,,,,,,,,,,,,,,,,,,,,,,,,,,,,,,,,,,,,,,,,,,,,,,,,,,,,,,,,,,,,,,,,,,,,,,,,,,,,,,,,,,,,,,,,,,,,,,,,,,,,,,,,,,,,,,,,,,,,,,,,,,,,,,,,,,,,,,,,,,,,,,,,,,,,,,,,,,,,,\\r\\n\"NCT04032171\\tStudy of Evobrutinib in Participants With RMS\\t\\tTERMINATED\\tRelapsing-remitting Multiple Sclerosis\\tDRUG: Evobrutinib|DRUG: Avonex®|DRUG: Avonex® matched Placebo|DRUG: Evobrutinib matched Placebo\\tEMD Serono Research & Development Institute\",\" Inc.\\tMerck KGaA\", Darmstadt,\" Germany\\t1.0\\tINDUSTRY\\tINTERVENTIONAL\\tAllocation: RANDOMIZED|Intervention Model: PARALLEL|Masking: QUADRUPLE (PARTICIPANT\", CARE_PROVIDER, INVESTIGATOR,\" OUTCOMES_ASSESSOR)|Primary Purpose: TREATMENT\\t2019-09-10\\t2020-05-20\",,,,,,,,,,,,,,,,,,,,,,,,,,,,,,,,,,,,,,,,,,,,,,,,,,,,,,,,,,,,,,,,,,,,,,,,,,,,,,,,,,,,,,,,,,,,,,,,,,,,,,,,,,,,,,,,,,,,,,,,,,,,,,,,,,,,,,,,,,,,,,,,,,,,,,,,,,,,,,,,,,,,,,,,,,,,,,,,,,,,,,,,,,,,,,,,,,,,,,,,,,,,\\r\\n\"NCT05674071\\tApplying an Osteopathic Intervention to Improve Mental Health Symptoms: a Mixed-methods Feasibility Study Protocol.\\t\\tCOMPLETED\\tMental Health Issue\\tBEHAVIORAL: Articulation/HVT|BEHAVIORAL: Soft-tissue massage|BEHAVIORAL: Craniosacral techniques|BEHAVIORAL: Combination of the three interventions: HVT\",\" soft-tissue and craniosacral techniques\\tSwansea University\\tOsteopathic Foundation|University College of Osteopathy\\t32.0\\tOTHER\\tINTERVENTIONAL\\tAllocation: RANDOMIZED|Intervention Model: PARALLEL|Masking: SINGLE (OUTCOMES_ASSESSOR)|Primary Purpose: TREATMENT\\t2022-12-20\\t2023-08-01\",,,,,,,,,,,,,,,,,,,,,,,,,,,,,,,,,,,,,,,,,,,,,,,,,,,,,,,,,,,,,,,,,,,,,,,,,,,,,,,,,,,,,,,,,,,,,,,,,,,,,,,,,,,,,,,,,,,,,,,,,,,,,,,,,,,,,,,,,,,,,,,,,,,,,,,,,,,,,,,,,,,,,,,,,,,,,,,,,,,,,,,,,,,,,,,,,,,,,,,,,,,,,,,,,\\r\\n\"NCT00858871\\tFirst Line Hepato Cellular Carcinoma (HCC)\\tBRISK FL\\tCOMPLETED\\tHepato Cellular Carcinoma (HCC)\\tDRUG: Brivanib|DRUG: Placebo|DRUG: Sorafenib|DRUG: Placebo\\tBristol-Myers Squibb\\t\\t1714.0\\tINDUSTRY\\tINTERVENTIONAL\\tAllocation: RANDOMIZED|Intervention Model: PARALLEL|Masking: QUADRUPLE (PARTICIPANT\", CARE_PROVIDER, INVESTIGATOR,\" OUTCOMES_ASSESSOR)|Primary Purpose: TREATMENT\\t2009-05\\t2013-09\",,,,,,,,,,,,,,,,,,,,,,,,,,,,,,,,,,,,,,,,,,,,,,,,,,,,,,,,,,,,,,,,,,,,,,,,,,,,,,,,,,,,,,,,,,,,,,,,,,,,,,,,,,,,,,,,,,,,,,,,,,,,,,,,,,,,,,,,,,,,,,,,,,,,,,,,,,,,,,,,,,,,,,,,,,,,,,,,,,,,,,,,,,,,,,,,,,,,,,,,,,,,,,,\\r\\n\"NCT01776671\\tOnce Daily Gabapentin in the Treatment of Post Amputation Pain\\t\\tUNKNOWN\\tPain|Quality of Life\\tDRUG: Gralise\\tChicago Anesthesia Pain Specialists\\t\\t16.0\\tOTHER\\tINTERVENTIONAL\\tAllocation: NA|Intervention Model: SINGLE_GROUP|Masking: NONE|Primary Purpose: TREATMENT\\t2013-02\\t2018-12\",,,,,,,,,,,,,,,,,,,,,,,,,,,,,,,,,,,,,,,,,,,,,,,,,,,,,,,,,,,,,,,,,,,,,,,,,,,,,,,,,,,,,,,,,,,,,,,,,,,,,,,,,,,,,,,,,,,,,,,,,,,,,,,,,,,,,,,,,,,,,,,,,,,,,,,,,,,,,,,,,,,,,,,,,,,,,,,,,,,,,,,,,,,,,,,,,,,,,,,,,,,,,,,,,,\\r\\n\"NCT01363271\\tCost Study of Linezolid Versus Vancomycin Among Previously Hospitalized Patients\\t\\tCOMPLETED\\tComplicated Skin and Structure Infection|Nosocomial Pneumonia\\tDRUG: Linezolid|DRUG: Vancomycin|DRUG: Linezolid|DRUG: Vancomycin\\tPfizer\\tUniversity of Maryland|Lodise & Lodise\",\" LLC\\t7260.0\\tINDUSTRY\\tOBSERVATIONAL\\tObservational Model: |Time Perspective: p\\t2011-05\\t2012-05\",,,,,,,,,,,,,,,,,,,,,,,,,,,,,,,,,,,,,,,,,,,,,,,,,,,,,,,,,,,,,,,,,,,,,,,,,,,,,,,,,,,,,,,,,,,,,,,,,,,,,,,,,,,,,,,,,,,,,,,,,,,,,,,,,,,,,,,,,,,,,,,,,,,,,,,,,,,,,,,,,,,,,,,,,,,,,,,,,,,,,,,,,,,,,,,,,,,,,,,,,,,,,,,,,\\r\\n\"NCT01282671\\tEffects of Deep Breathing Exercises Two Months After Cardiac Surgery\\t\\tCOMPLETED\\tCABG|Valve Surgery\\tOTHER: Breathing exercises\\tUppsala University\\tThe Swedish Research Council|Örebro County Council\\t357.0\\tOTHER\\tINTERVENTIONAL\\tAllocation: RANDOMIZED|Intervention Model: PARALLEL|Masking: SINGLE (OUTCOMES_ASSESSOR)|Primary Purpose: TREATMENT\\t2007-09\\t2012-08\",,,,,,,,,,,,,,,,,,,,,,,,,,,,,,,,,,,,,,,,,,,,,,,,,,,,,,,,,,,,,,,,,,,,,,,,,,,,,,,,,,,,,,,,,,,,,,,,,,,,,,,,,,,,,,,,,,,,,,,,,,,,,,,,,,,,,,,,,,,,,,,,,,,,,,,,,,,,,,,,,,,,,,,,,,,,,,,,,,,,,,,,,,,,,,,,,,,,,,,,,,,,,,,,,,\\r\\n\"NCT05683171\\tA Phase 1/2\",\" Open-label Study of Valemetostat in Combination With Rituximab and Lenalidomide in Relapsed or Refractory Follicular Lymphoma\\t\\tRECRUITING\\tLymphoma\\tDRUG: Rituximab|DRUG: Lenalidomide|DRUG: Valemetostat\\tM.D. Anderson Cancer Center\\tDaiichi Sankyo\\t60.0\\tOTHER\\tINTERVENTIONAL\\tAllocation: NA|Intervention Model: SINGLE_GROUP|Masking: NONE|Primary Purpose: TREATMENT\\t2023-05-19\\t2027-09-30\",,,,,,,,,,,,,,,,,,,,,,,,,,,,,,,,,,,,,,,,,,,,,,,,,,,,,,,,,,,,,,,,,,,,,,,,,,,,,,,,,,,,,,,,,,,,,,,,,,,,,,,,,,,,,,,,,,,,,,,,,,,,,,,,,,,,,,,,,,,,,,,,,,,,,,,,,,,,,,,,,,,,,,,,,,,,,,,,,,,,,,,,,,,,,,,,,,,,,,,,,,,,,,,,,\\r\\n\"NCT05334771\\tEarly Detection of Endolymphatic Hydrops in Hypothyroid Patients\\t\\tNOT_YET_RECRUITING\\tHypothyroidism\\tDEVICE: Dual band pure tune audiometer\\tAssiut University\\t\\t50.0\\tOTHER\\tOBSERVATIONAL\\tObservational Model: |Time Perspective: p\\t2022-09\\t2025-04\",,,,,,,,,,,,,,,,,,,,,,,,,,,,,,,,,,,,,,,,,,,,,,,,,,,,,,,,,,,,,,,,,,,,,,,,,,,,,,,,,,,,,,,,,,,,,,,,,,,,,,,,,,,,,,,,,,,,,,,,,,,,,,,,,,,,,,,,,,,,,,,,,,,,,,,,,,,,,,,,,,,,,,,,,,,,,,,,,,,,,,,,,,,,,,,,,,,,,,,,,,,,,,,,,,\\r\\n\"NCT04718571\\tAn Ecological Analysis of Nontuberculous Mycobacteria in the Geneva Area (2015-2020)\\t\\tCOMPLETED\\tEcology of Nontubercuous Mycobacteria|Geneva Area\\t\\tUniversity Hospital\",\" Geneva\\t\\t231.0\\tOTHER\\tOBSERVATI'"
     ]
    }
   ],
   "source": [
    "dbutils.fs.head(\"/FileStore/tables/\" + clinicaltrial_2023 + \".csv\")"
   ]
  },
  {
   "cell_type": "code",
   "execution_count": 0,
   "metadata": {
    "application/vnd.databricks.v1+cell": {
     "cellMetadata": {
      "byteLimit": 2048000,
      "rowLimit": 10000
     },
     "inputWidgets": {},
     "nuid": "53c8a0da-e6b8-4d99-a27b-a9bc5a1bcd24",
     "showTitle": false,
     "title": ""
    }
   },
   "outputs": [],
   "source": [
    "# CREATE RDD FOR CLINICAL TRIALS\n",
    "\n",
    "# defines a function to read and convert the clinicaltrial data into RDD\n",
    "\n",
    "def load_clinical_trial_data(clinicaltrial_2023):\n",
    "    \"\"\"\n",
    "    Load clinical trial data from a CSV file into an RDD.\n",
    "\n",
    "    Parameters:\n",
    "        clinicaltrial_2023 (str): The name of the CSV file to load.\n",
    "\n",
    "    Returns:\n",
    "        pyspark.rdd.RDD: An RDD containing the clinical trial data.\n",
    "    \"\"\"\n",
    "    rdd = sc.textFile(\"/FileStore/tables/\" + clinicaltrial_2023 + \".csv\")\n",
    "    return rdd\n"
   ]
  },
  {
   "cell_type": "code",
   "execution_count": 0,
   "metadata": {
    "application/vnd.databricks.v1+cell": {
     "cellMetadata": {
      "byteLimit": 2048000,
      "rowLimit": 10000
     },
     "inputWidgets": {},
     "nuid": "733b4c9a-7c1b-4da0-85aa-e02810e813fc",
     "showTitle": false,
     "title": ""
    }
   },
   "outputs": [],
   "source": [
    "# CREATE RDD FOR pharmaceutical data\n",
    "\n",
    "# defines a function to read and convert the pharmaceutical data into RDD\n",
    "\n",
    "\n",
    "def load_pharma_data(pharma):\n",
    "    \"\"\"\n",
    "    Load pharmaceutical data from a CSV file into an RDD.\n",
    "\n",
    "    Parameters:\n",
    "        pharma (str): The name of the pharmaceutical data CSV file.\n",
    "\n",
    "    Returns:\n",
    "        pyspark.rdd.RDD: An RDD containing the pharmaceutical data.\n",
    "    \"\"\"\n",
    "    prdd = sc.textFile(\"/FileStore/tables/\" + pharma + \".csv\")\n",
    "    return prdd\n"
   ]
  },
  {
   "cell_type": "code",
   "execution_count": 0,
   "metadata": {
    "application/vnd.databricks.v1+cell": {
     "cellMetadata": {
      "byteLimit": 2048000,
      "rowLimit": 10000
     },
     "inputWidgets": {},
     "nuid": "d9c41ead-2a12-4978-85ca-0fc6b4dcdb9a",
     "showTitle": false,
     "title": ""
    }
   },
   "outputs": [],
   "source": [
    "# Removing the delimeters\n",
    "\n",
    "delimiter_selector = {\n",
    "    \"clinicaltrial_2023\": \"\\t\",\n",
    "    \"clinicaltrial_2021\": \"|\",\n",
    "    \"clinicaltrial_2020\": \"|\",\n",
    "    \"pharma\": \",\"\n",
    "}\n",
    "\n",
    "def clean_clinical_rdd(crdd, clinicaltrial_2023):\n",
    "    \"\"\"\n",
    "    Clean the clinical trial RDD by splitting each line using the delimiter\n",
    "    specified by the file type and removing unwanted characters.\n",
    "\n",
    "    Parameters:\n",
    "        crdd (pyspark.rdd.RDD): The RDD containing clinical trial data.\n",
    "        clinicaltrial_2023 (str): The name of the clinical trial file.\n",
    "\n",
    "    Returns:\n",
    "        pyspark.rdd.RDD: The cleaned RDD.\n",
    "    \"\"\"\n",
    "    CLEAN_CRDD = crdd.map(lambda x: x.split(delimiter_selector[clinicaltrial_2023])).map(lambda x: [i.replace(\",\",'').replace('\"','')for i in x])\n",
    "    return CLEAN_CRDD\n",
    "\n",
    "def clean_pharma_rdd(prdd, pharma):\n",
    "    \"\"\"\n",
    "    Clean the pharmaceutical RDD by splitting each line using the delimiter\n",
    "    specified by the file type and removing unwanted characters.\n",
    "\n",
    "    Parameters:\n",
    "        prdd (pyspark.rdd.RDD): The RDD containing pharmaceutical data.\n",
    "        pharma_file (str): The name of the pharmaceutical file.\n",
    "\n",
    "    Returns:\n",
    "        pyspark.rdd.RDD: The cleaned RDD.\n",
    "    \"\"\"\n",
    "    CLEAN_PRDD = prdd.map(lambda x: x.split(delimiter_selector[pharma])).map(lambda x: [i.replace(\",\",'').replace('\"','')for i in x])\n",
    "    return CLEAN_PRDD\n"
   ]
  },
  {
   "cell_type": "code",
   "execution_count": 0,
   "metadata": {
    "application/vnd.databricks.v1+cell": {
     "cellMetadata": {
      "byteLimit": 2048000,
      "rowLimit": 10000
     },
     "inputWidgets": {},
     "nuid": "e53a6e17-3e20-4533-a1b0-631f58db7f5a",
     "showTitle": false,
     "title": ""
    }
   },
   "outputs": [
    {
     "output_type": "stream",
     "name": "stdout",
     "output_type": "stream",
     "text": [
      "Out[15]: [['Id',\n  'Study Title',\n  'Acronym',\n  'Status',\n  'Conditions',\n  'Interventions',\n  'Sponsor',\n  'Collaborators',\n  'Enrollment',\n  'Funder Type',\n  'Type',\n  'Study Design',\n  'Start',\n  'Completion'],\n ['NCT03630471',\n  'Effectiveness of a Problem-solving Intervention for Common Adolescent Mental Health Problems in India',\n  'PRIDE',\n  'COMPLETED',\n  'Mental Health Issue (E.G. Depression Psychosis Personality Disorder Substance Abuse)',\n  \"BEHAVIORAL: PRIDE 'Step 1' problem-solving intervention|BEHAVIORAL: Enhanced usual care\",\n  'Sangath',\n  'Harvard Medical School (HMS and HSDM)|London School of Hygiene and Tropical Medicine',\n  '250.0',\n  'OTHER',\n  'INTERVENTIONAL',\n  'Allocation: RANDOMIZED|Intervention Model: PARALLEL|Masking: DOUBLE (INVESTIGATOR OUTCOMES_ASSESSOR)|Primary Purpose: TREATMENT',\n  '2018-08-20',\n  '2019-02-28'],\n ['NCT05992571',\n  'Oral Ketone Monoester Supplementation and Resting-state Brain Connectivity',\n  '',\n  'RECRUITING',\n  'Cerebrovascular Function|Cognition',\n  'OTHER: Placebo|DIETARY_SUPPLEMENT: β-OHB',\n  'McMaster University',\n  \"Alzheimer's Society of Brant Haldimand Norfolk Hamilton Halton\",\n  '30.0',\n  'OTHER',\n  'INTERVENTIONAL',\n  'Allocation: RANDOMIZED|Intervention Model: CROSSOVER|Masking: TRIPLE (PARTICIPANT INVESTIGATOR OUTCOMES_ASSESSOR)|Primary Purpose: BASIC_SCIENCE',\n  '2023-10-25',\n  '2024-08'],\n ['NCT00237471',\n  'Impact of Tight Glycaemic Control in Acute Myocardial Infarction',\n  '',\n  'TERMINATED',\n  'Myocardial Infarct|Hyperglycemia',\n  'DRUG: Insulin (tight blood glucose control)',\n  'Melbourne Health',\n  'National Health and Medical Research Council Australia|Bristol-Myers Squibb',\n  '40.0',\n  'OTHER',\n  'INTERVENTIONAL',\n  'Allocation: RANDOMIZED|Intervention Model: PARALLEL|Masking: NONE|Primary Purpose: TREATMENT',\n  '2005-10',\n  '2006-05'],\n ['NCT03820271',\n  'New Prognostic Predictive Models of Mortality of Decompensated Cirrhotic Patients Waiting for Liver Transplantation',\n  'SUPERMELD',\n  'RECRUITING',\n  'Decompensated Cirrhosis|Liver Transplantation',\n  'OTHER: SuperMELD',\n  'Assistance Publique - Hôpitaux de Paris',\n  '',\n  '500.0',\n  'OTHER',\n  'INTERVENTIONAL',\n  'Allocation: NA|Intervention Model: SINGLE_GROUP|Masking: NONE|Primary Purpose: OTHER',\n  '2020-10-01',\n  '2023-10-01']]"
     ]
    }
   ],
   "source": [
    "# Creating new RDD  after cleaning the data\n",
    "\n",
    "# Creating the new RDD\n",
    "Clinical_RDD = load_clinical_trial_data(clinicaltrial_2023)\n",
    "PHARMA_RDD = load_pharma_data(pharma)\n",
    "\n",
    "# Cleaning the RDD\n",
    "Clinical_RDD_Clean = clean_clinical_rdd(Clinical_RDD, clinicaltrial_2023)\n",
    "PHARMA_RDD_Clean = clean_pharma_rdd(PHARMA_RDD, pharma)\n",
    "\n",
    "# Take first 5 elements from cleaned Clinical RDD\n",
    "Clinical_RDD_Clean.take(5)"
   ]
  },
  {
   "cell_type": "code",
   "execution_count": 0,
   "metadata": {
    "application/vnd.databricks.v1+cell": {
     "cellMetadata": {
      "byteLimit": 2048000,
      "rowLimit": 10000
     },
     "inputWidgets": {},
     "nuid": "57d3e25c-6dae-48be-932c-29f963b1bcbf",
     "showTitle": false,
     "title": ""
    }
   },
   "outputs": [
    {
     "output_type": "stream",
     "name": "stdout",
     "output_type": "stream",
     "text": [
      "Out[16]: [['Company',\n  'Parent_Company',\n  'Penalty_Amount',\n  'Subtraction_From_Penalty',\n  'Penalty_Amount_Adjusted_For_Eliminating_Multiple_Counting',\n  'Penalty_Year',\n  'Penalty_Date',\n  'Offense_Group',\n  'Primary_Offense',\n  'Secondary_Offense',\n  'Description',\n  'Level_of_Government',\n  'Action_Type',\n  'Agency',\n  'Civil/Criminal',\n  'Prosecution_Agreement',\n  'Court',\n  'Case_ID',\n  'Private_Litigation_Case_Title',\n  'Lawsuit_Resolution',\n  'Facility_State',\n  'City',\n  'Address',\n  'Zip',\n  'NAICS_Code',\n  'NAICS_Translation',\n  'HQ_Country_of_Parent',\n  'HQ_State_of_Parent',\n  'Ownership_Structure',\n  'Parent_Company_Stock_Ticker',\n  'Major_Industry_of_Parent',\n  'Specific_Industry_of_Parent',\n  'Info_Source',\n  'Notes'],\n ['Abbott Laboratories',\n  'Abbott Laboratories',\n  '$5',\n  '475',\n  '000',\n  '$0',\n  '$5',\n  '475',\n  '000',\n  '2013',\n  '20131227',\n  'government-contracting-related offenses',\n  'False Claims Act and related',\n  'kickbacks and bribery',\n  \"Abbott Laboratories agreed to $5.475 million to resolve allegations that it violated the False Claims Act by paying kickbacks to induce doctors to implant the company's carotid\",\n  ' biliary and peripheral vascular products.',\n  'federal',\n  'agency action',\n  'Justice Department Civil Division',\n  'civil',\n  '',\n  '',\n  '',\n  '',\n  '',\n  '',\n  '',\n  '',\n  '',\n  '',\n  '',\n  'USA',\n  'Illinois',\n  'publicly traded',\n  'ABT',\n  'pharmaceuticals',\n  'pharmaceuticals',\n  'https://www.justice.gov/opa/pr/abbott-laboratories-pays-us-5475-million-settle-claims-company-paid-kickbacks-physicians',\n  ''],\n ['Abbott Laboratories Inc.',\n  'AbbVie',\n  '$1',\n  '500',\n  '000',\n  '000',\n  '$0',\n  '$1',\n  '500',\n  '000',\n  '000',\n  '2012',\n  '20120507',\n  'healthcare-related offenses',\n  'off-label or unapproved promotion of medical products',\n  '',\n  \"Global Health Care Company Abbott Laboratories Inc. has pleaded guilty and agreed to pay $1.5 billion to resolve its criminal and civil liability arising from the company's unlawful promotion of the prescription drug Depakote for uses not approved as safe and effective by the Food and Drug Administration. The resolution - the second largest payment by a drug company - includes a criminal fine and forfeiture totaling $700 million and civil settlements with the federal government and the states totaling $800 million. Abbott also will be subject to court-supervised probation and reporting obligations for Abbotts CEO and Board of Directors.\",\n  'federal',\n  'agency action',\n  'Food and Drug Administration referral to the Justice Department',\n  'civil and criminal',\n  '',\n  '',\n  '',\n  '',\n  '',\n  '',\n  '',\n  '',\n  '',\n  '',\n  '',\n  'USA',\n  'Illinois',\n  'publicly traded',\n  'ABBV',\n  'pharmaceuticals',\n  'pharmaceuticals',\n  'http://www.justice.gov/opa/pr/abbott-labs-pay-15-billion-resolve-criminal-civil-investigations-label-promotion-depakote',\n  ''],\n ['Abbott Laboratories Inc.',\n  'AbbVie',\n  '$126',\n  '500',\n  '000',\n  '$0',\n  '$126',\n  '500',\n  '000',\n  '2010',\n  '20101207',\n  'government-contracting-related offenses',\n  'False Claims Act and related',\n  '',\n  'Abbott Laboratories Inc.',\n  ' B. Braun Medical Inc. and Roxane Laboratories Inc. n/k/a Boehringer Ingelheim Roxane Inc. and affiliated entities agreed to pay $421 million to settle False Claims Act allegations',\n  ' that they engaged in a scheme to report false and inflated prices for numerous pharmaceutical products knowing that federal healthcare programs relied on those reported prices to set payment rates.',\n  'federal',\n  'agency action',\n  'Justice Department Civil Division',\n  'civil',\n  '',\n  '',\n  '',\n  '',\n  '',\n  '',\n  '',\n  '',\n  '',\n  '',\n  '',\n  'USA',\n  'Illinois',\n  'publicly traded',\n  'ABBV',\n  'pharmaceuticals',\n  'pharmaceuticals',\n  'https://www.justice.gov/opa/pr/pharmaceutical-manufacturers-pay-4212-million-settle-false-claims-act-cases',\n  ''],\n ['Abbott Laboratories Puerto Rico',\n  ' Inc.',\n  'Abbott Laboratories',\n  '$49',\n  '045',\n  '$0',\n  '$49',\n  '045',\n  '2009',\n  '20090305',\n  'employment-related offenses',\n  'wage and hour violation',\n  'Fair Labor Standards Act',\n  '',\n  'federal',\n  'agency action',\n  'Labor Department Wage and Hour Division',\n  'civil',\n  '',\n  '',\n  '1527129',\n  '',\n  '',\n  'Puerto Rico',\n  'San Juan',\n  '',\n  '',\n  '423450',\n  '423450: Medical',\n  ' Dental',\n  ' and Hospital Equipment and Supplies Merchant Wholesalers',\n  'USA',\n  'Illinois',\n  'publicly traded',\n  'ABT',\n  'pharmaceuticals',\n  'pharmaceuticals',\n  'March 7',\n  ' 2017 download of a dataset posted by the Wage and Hour Division at https://enforcedata.dol.gov/views/data_summary.php',\n  'Date and year are the Findings End Date in the dataset posted by the Wage and Hour Division',\n  ' which does not provide case opening or closing dates. The company name is the Legal Name provided by the dataset unless that field is blank',\n  ' in which case the Trade Name is used. The dataset provides only one address and does not indicate whether it is the company headquarters address or the establishment address. The penalty amount is the total of civil monetary penalties and mandated back wages. The original dataset provides a breakdown.']]"
     ]
    }
   ],
   "source": [
    "PHARMA_RDD_Clean.take(5)"
   ]
  },
  {
   "cell_type": "code",
   "execution_count": 0,
   "metadata": {
    "application/vnd.databricks.v1+cell": {
     "cellMetadata": {
      "byteLimit": 2048000,
      "rowLimit": 10000
     },
     "inputWidgets": {},
     "nuid": "347005da-eaef-4037-96ad-becc6596af64",
     "showTitle": false,
     "title": ""
    }
   },
   "outputs": [],
   "source": [
    "#filtering empty row in pharma\n",
    "pharma_rdd_filtered = PHARMA_RDD_Clean.filter(lambda x: len(x) == 34)"
   ]
  },
  {
   "cell_type": "code",
   "execution_count": 0,
   "metadata": {
    "application/vnd.databricks.v1+cell": {
     "cellMetadata": {
      "byteLimit": 2048000,
      "rowLimit": 10000
     },
     "inputWidgets": {},
     "nuid": "071db6c2-9592-4c24-830e-69fdff2d8cee",
     "showTitle": false,
     "title": ""
    }
   },
   "outputs": [
    {
     "output_type": "stream",
     "name": "stdout",
     "output_type": "stream",
     "text": [
      "+-------+--------------+--------------+------------------------+---------------------------------------------------------+------------+------------+-------------+---------------+-----------------+-----------+-------------------+-----------+------+--------------+---------------------+-----+-------+-----------------------------+------------------+--------------+----+-------+---+----------+-----------------+--------------------+------------------+-------------------+---------------------------+------------------------+---------------------------+-----------+-----+\n|Company|Parent_Company|Penalty_Amount|Subtraction_From_Penalty|Penalty_Amount_Adjusted_For_Eliminating_Multiple_Counting|Penalty_Year|Penalty_Date|Offense_Group|Primary_Offense|Secondary_Offense|Description|Level_of_Government|Action_Type|Agency|Civil_Criminal|Prosecution_Agreement|Court|Case_ID|Private_Litigation_Case_Title|Lawsuit_Resolution|Facility_State|City|Address|Zip|NAICS_Code|NAICS_Translation|HQ_Country_of_Parent|HQ_State_of_Parent|Ownership_Structure|Parent_Company_Stock_Ticker|Major_Industry_of_Parent|Specific_Industry_of_Parent|Info_Source|Notes|\n+-------+--------------+--------------+------------------------+---------------------------------------------------------+------------+------------+-------------+---------------+-----------------+-----------+-------------------+-----------+------+--------------+---------------------+-----+-------+-----------------------------+------------------+--------------+----+-------+---+----------+-----------------+--------------------+------------------+-------------------+---------------------------+------------------------+---------------------------+-----------+-----+\n|Company|Parent_Company|Penalty_Amount|Subtraction_From_Penalty|Penalty_Amount_Adjusted_For_Eliminating_Multiple_Counting|Penalty_Year|Penalty_Date|Offense_Group|Primary_Offense|Secondary_Offense|Description|Level_of_Government|Action_Type|Agency|Civil/Criminal|Prosecution_Agreement|Court|Case_ID|Private_Litigation_Case_Title|Lawsuit_Resolution|Facility_State|City|Address|Zip|NAICS_Code|NAICS_Translation|HQ_Country_of_Parent|HQ_State_of_Parent|Ownership_Structure|Parent_Company_Stock_Ticker|Major_Industry_of_Parent|Specific_Industry_of_Parent|Info_Source|Notes|\n+-------+--------------+--------------+------------------------+---------------------------------------------------------+------------+------------+-------------+---------------+-----------------+-----------+-------------------+-----------+------+--------------+---------------------+-----+-------+-----------------------------+------------------+--------------+----+-------+---+----------+-----------------+--------------------+------------------+-------------------+---------------------------+------------------------+---------------------------+-----------+-----+\n\n"
     ]
    }
   ],
   "source": [
    "from pyspark.sql import SparkSession\n",
    "from pyspark.sql.types import *\n",
    "pharma_schema = StructType([\n",
    "    StructField(\"Company\", StringType(), True),\n",
    "    StructField(\"Parent_Company\", StringType(), True),\n",
    "    StructField(\"Penalty_Amount\", StringType(), True),\n",
    "    StructField(\"Subtraction_From_Penalty\", StringType(), True),\n",
    "    StructField(\"Penalty_Amount_Adjusted_For_Eliminating_Multiple_Counting\", StringType(), True),\n",
    "    StructField(\"Penalty_Year\", StringType(), True),\n",
    "    StructField(\"Penalty_Date\", StringType(), True),\n",
    "    StructField(\"Offense_Group\", StringType(), True),\n",
    "    StructField(\"Primary_Offense\", StringType(), True),\n",
    "    StructField(\"Secondary_Offense\", StringType(), True),\n",
    "    StructField(\"Description\", StringType(), True),\n",
    "    StructField(\"Level_of_Government\", StringType(), True),\n",
    "    StructField(\"Action_Type\", StringType(), True),\n",
    "    StructField(\"Agency\", StringType(), True),\n",
    "    StructField(\"Civil_Criminal\", StringType(), True),\n",
    "    StructField(\"Prosecution_Agreement\", StringType(), True),\n",
    "    StructField(\"Court\", StringType(), True),\n",
    "    StructField(\"Case_ID\", StringType(), True),\n",
    "    StructField(\"Private_Litigation_Case_Title\", StringType(), True),\n",
    "    StructField(\"Lawsuit_Resolution\", StringType(), True),\n",
    "    StructField(\"Facility_State\", StringType(), True),\n",
    "    StructField(\"City\", StringType(), True),\n",
    "    StructField(\"Address\", StringType(), True),\n",
    "    StructField(\"Zip\", StringType(), True),\n",
    "    StructField(\"NAICS_Code\", StringType(), True),\n",
    "    StructField(\"NAICS_Translation\", StringType(), True),\n",
    "    StructField(\"HQ_Country_of_Parent\", StringType(), True),\n",
    "    StructField(\"HQ_State_of_Parent\", StringType(), True),\n",
    "    StructField(\"Ownership_Structure\", StringType(), True),\n",
    "    StructField(\"Parent_Company_Stock_Ticker\", StringType(), True),\n",
    "    StructField(\"Major_Industry_of_Parent\", StringType(), True),\n",
    "    StructField(\"Specific_Industry_of_Parent\", StringType(), True),\n",
    "    StructField(\"Info_Source\", StringType(), True),\n",
    "    StructField(\"Notes\", StringType(), True)\n",
    "])\n",
    "\n",
    "# Convert RDD to DataFrame with defined schema\n",
    "pharma_df = spark.createDataFrame(pharma_rdd_filtered, schema=pharma_schema)\n",
    "\n",
    "# Show the DataFrame\n",
    "pharma_df.show(5, truncate=False)\n"
   ]
  },
  {
   "cell_type": "code",
   "execution_count": 0,
   "metadata": {
    "application/vnd.databricks.v1+cell": {
     "cellMetadata": {
      "byteLimit": 2048000,
      "rowLimit": 10000
     },
     "inputWidgets": {},
     "nuid": "ef66735e-2b67-4380-b483-7fb77ef7982b",
     "showTitle": false,
     "title": ""
    }
   },
   "outputs": [],
   "source": [
    "#### filtering\n",
    "clinical_rdd_filtered = Clinical_RDD_Clean.filter(lambda x: len(x) == 14)"
   ]
  },
  {
   "cell_type": "code",
   "execution_count": 0,
   "metadata": {
    "application/vnd.databricks.v1+cell": {
     "cellMetadata": {
      "byteLimit": 2048000,
      "rowLimit": 10000
     },
     "inputWidgets": {},
     "nuid": "5e0bce05-3dad-4615-8c41-19d623da3ad1",
     "showTitle": false,
     "title": ""
    }
   },
   "outputs": [
    {
     "output_type": "stream",
     "name": "stdout",
     "output_type": "stream",
     "text": [
      "+-----------+-------------------------------------------------------------------------------------------------------------------+---------+----------+------------------------------------------------------------------------------------+---------------------------------------------------------------------------------------+---------------------------------------+------------------------------------------------------------------------------------+----------+-----------+--------------+------------------------------------------------------------------------------------------------------------------------------------------------+----------+----------+\n|Id         |Study Title                                                                                                        |Acronym  |Status    |Conditions                                                                          |Interventions                                                                          |Sponsor                                |Collaborators                                                                       |Enrollment|Funder Type|Type          |Study Design                                                                                                                                    |Start     |Completion|\n+-----------+-------------------------------------------------------------------------------------------------------------------+---------+----------+------------------------------------------------------------------------------------+---------------------------------------------------------------------------------------+---------------------------------------+------------------------------------------------------------------------------------+----------+-----------+--------------+------------------------------------------------------------------------------------------------------------------------------------------------+----------+----------+\n|Id         |Study Title                                                                                                        |Acronym  |Status    |Conditions                                                                          |Interventions                                                                          |Sponsor                                |Collaborators                                                                       |Enrollment|Funder Type|Type          |Study Design                                                                                                                                    |Start     |Completion|\n|NCT03630471|Effectiveness of a Problem-solving Intervention for Common Adolescent Mental Health Problems in India              |PRIDE    |COMPLETED |Mental Health Issue (E.G. Depression Psychosis Personality Disorder Substance Abuse)|BEHAVIORAL: PRIDE 'Step 1' problem-solving intervention|BEHAVIORAL: Enhanced usual care|Sangath                                |Harvard Medical School (HMS and HSDM)|London School of Hygiene and Tropical Medicine|250.0     |OTHER      |INTERVENTIONAL|Allocation: RANDOMIZED|Intervention Model: PARALLEL|Masking: DOUBLE (INVESTIGATOR OUTCOMES_ASSESSOR)|Primary Purpose: TREATMENT                 |2018-08-20|2019-02-28|\n|NCT05992571|Oral Ketone Monoester Supplementation and Resting-state Brain Connectivity                                         |         |RECRUITING|Cerebrovascular Function|Cognition                                                  |OTHER: Placebo|DIETARY_SUPPLEMENT: β-OHB                                               |McMaster University                    |Alzheimer's Society of Brant Haldimand Norfolk Hamilton Halton                      |30.0      |OTHER      |INTERVENTIONAL|Allocation: RANDOMIZED|Intervention Model: CROSSOVER|Masking: TRIPLE (PARTICIPANT INVESTIGATOR OUTCOMES_ASSESSOR)|Primary Purpose: BASIC_SCIENCE|2023-10-25|2024-08   |\n|NCT00237471|Impact of Tight Glycaemic Control in Acute Myocardial Infarction                                                   |         |TERMINATED|Myocardial Infarct|Hyperglycemia                                                    |DRUG: Insulin (tight blood glucose control)                                            |Melbourne Health                       |National Health and Medical Research Council Australia|Bristol-Myers Squibb         |40.0      |OTHER      |INTERVENTIONAL|Allocation: RANDOMIZED|Intervention Model: PARALLEL|Masking: NONE|Primary Purpose: TREATMENT                                                    |2005-10   |2006-05   |\n|NCT03820271|New Prognostic Predictive Models of Mortality of Decompensated Cirrhotic Patients Waiting for Liver Transplantation|SUPERMELD|RECRUITING|Decompensated Cirrhosis|Liver Transplantation                                       |OTHER: SuperMELD                                                                       |Assistance Publique - Hôpitaux de Paris|                                                                                    |500.0     |OTHER      |INTERVENTIONAL|Allocation: NA|Intervention Model: SINGLE_GROUP|Masking: NONE|Primary Purpose: OTHER                                                            |2020-10-01|2023-10-01|\n+-----------+-------------------------------------------------------------------------------------------------------------------+---------+----------+------------------------------------------------------------------------------------+---------------------------------------------------------------------------------------+---------------------------------------+------------------------------------------------------------------------------------+----------+-----------+--------------+------------------------------------------------------------------------------------------------------------------------------------------------+----------+----------+\nonly showing top 5 rows\n\n"
     ]
    }
   ],
   "source": [
    "from pyspark.sql.types import *\n",
    "myschema = StructType([\n",
    "    StructField(\"Id\", StringType(), True),\n",
    "    StructField(\"Study Title\", StringType(), True),\n",
    "    StructField(\"Acronym\", StringType(), True),\n",
    "    StructField(\"Status\", StringType(), True),\n",
    "    StructField(\"Conditions\", StringType(), True),\n",
    "    StructField(\"Interventions\", StringType(), True),\n",
    "    StructField(\"Sponsor\", StringType(), True),\n",
    "    StructField(\"Collaborators\", StringType(), True),\n",
    "    StructField(\"Enrollment\", StringType(), True),\n",
    "    StructField(\"Funder Type\", StringType(), True),\n",
    "    StructField(\"Type\", StringType(), True),\n",
    "    StructField(\"Study Design\", StringType(), True),\n",
    "    StructField(\"Start\", StringType(), True),\n",
    "    StructField(\"Completion\", StringType(), True)\n",
    "])\n",
    "clinical_df = spark.createDataFrame(clinical_rdd_filtered, schema=myschema)\n",
    "clinical_df.show(5, truncate=False)\n"
   ]
  },
  {
   "cell_type": "code",
   "execution_count": 0,
   "metadata": {
    "application/vnd.databricks.v1+cell": {
     "cellMetadata": {
      "byteLimit": 2048000,
      "rowLimit": 10000
     },
     "inputWidgets": {},
     "nuid": "c6bb5f09-e4da-4d14-a979-80a66d038337",
     "showTitle": false,
     "title": ""
    }
   },
   "outputs": [
    {
     "output_type": "stream",
     "name": "stdout",
     "output_type": "stream",
     "text": [
      "root\n |-- Id: string (nullable = true)\n |-- Study Title: string (nullable = true)\n |-- Acronym: string (nullable = true)\n |-- Status: string (nullable = true)\n |-- Conditions: string (nullable = true)\n |-- Interventions: string (nullable = true)\n |-- Sponsor: string (nullable = true)\n |-- Collaborators: string (nullable = true)\n |-- Enrollment: string (nullable = true)\n |-- Funder Type: string (nullable = true)\n |-- Type: string (nullable = true)\n |-- Study Design: string (nullable = true)\n |-- Start: string (nullable = true)\n |-- Completion: string (nullable = true)\n\n"
     ]
    }
   ],
   "source": [
    "clinical_df.printSchema()"
   ]
  },
  {
   "cell_type": "code",
   "execution_count": 0,
   "metadata": {
    "application/vnd.databricks.v1+cell": {
     "cellMetadata": {
      "byteLimit": 2048000,
      "rowLimit": 10000
     },
     "inputWidgets": {},
     "nuid": "5c9691c0-b8d8-4d1e-ab52-e846e8b8bfdf",
     "showTitle": false,
     "title": ""
    }
   },
   "outputs": [
    {
     "output_type": "stream",
     "name": "stdout",
     "output_type": "stream",
     "text": [
      "+-------------+\n|Total Studies|\n+-------------+\n|       483421|\n+-------------+\n\n"
     ]
    }
   ],
   "source": [
    "#Q1\n",
    "from pyspark.sql import SparkSession\n",
    "from pyspark.sql.functions import countDistinct\n",
    "# Count the number of distinct studies\n",
    "distinct_studies_count = clinical_df.select(countDistinct(\"Id\").alias(\"Total Studies\"))\n",
    "# Show the result\n",
    "distinct_studies_count.show()\n"
   ]
  },
  {
   "cell_type": "code",
   "execution_count": 0,
   "metadata": {
    "application/vnd.databricks.v1+cell": {
     "cellMetadata": {
      "byteLimit": 2048000,
      "rowLimit": 10000
     },
     "inputWidgets": {},
     "nuid": "dc9b68d4-8d1d-4598-87fe-21cf76b22b29",
     "showTitle": false,
     "title": ""
    }
   },
   "outputs": [
    {
     "output_type": "stream",
     "name": "stdout",
     "output_type": "stream",
     "text": [
      "Total Studies: 483421\n"
     ]
    }
   ],
   "source": [
    "from pyspark.sql import SparkSession\n",
    "from pyspark.sql.functions import countDistinct\n",
    "distinct_studies_count = clinical_df.select(countDistinct(\"Id\").alias(\"Total Studies\"))\n",
    "result = distinct_studies_count.collect()\n",
    "\n",
    "for row in result:\n",
    "    print(f\"Total Studies: {row['Total Studies']}\")\n"
   ]
  },
  {
   "cell_type": "code",
   "execution_count": 0,
   "metadata": {
    "application/vnd.databricks.v1+cell": {
     "cellMetadata": {
      "byteLimit": 2048000,
      "rowLimit": 10000
     },
     "inputWidgets": {},
     "nuid": "42f9666d-54ee-48f9-9c11-27d1d6a52c63",
     "showTitle": false,
     "title": ""
    }
   },
   "outputs": [
    {
     "output_type": "stream",
     "name": "stdout",
     "output_type": "stream",
     "text": [
      "+---------------+---------+\n|Type           |Frequency|\n+---------------+---------+\n|INTERVENTIONAL |371382   |\n|OBSERVATIONAL  |110221   |\n|EXPANDED_ACCESS|928      |\n+---------------+---------+\n\n"
     ]
    }
   ],
   "source": [
    "#Q2\n",
    "from pyspark.sql import SparkSession\n",
    "from pyspark.sql.functions import count, desc, col\n",
    "# Filter out rows where 'Type' column is null, empty, or equals to 'Type'\n",
    "filtered_df = clinical_df.filter((col(\"Type\").isNotNull()) & (col(\"Type\") != \"\") & (col(\"Type\") != \"Type\"))\n",
    "\n",
    "# Group by 'Type' column and count the occurrences\n",
    "type_counts_df = filtered_df.groupBy(\"Type\") \\\n",
    "    .agg(count(\"*\").alias(\"Frequency\")) \\\n",
    "    .orderBy(desc(\"Frequency\"))\n",
    "\n",
    "# Show the DataFrame\n",
    "type_counts_df.show(truncate=False)\n"
   ]
  },
  {
   "cell_type": "code",
   "execution_count": 0,
   "metadata": {
    "application/vnd.databricks.v1+cell": {
     "cellMetadata": {
      "byteLimit": 2048000,
      "rowLimit": 10000
     },
     "inputWidgets": {},
     "nuid": "1880bb58-5826-4663-9968-d315eaafb3fb",
     "showTitle": false,
     "title": ""
    }
   },
   "outputs": [
    {
     "output_type": "stream",
     "name": "stdout",
     "output_type": "stream",
     "text": [
      "+---------------+---------+\n|Conditions     |Frequency|\n+---------------+---------+\n|Healthy        |7997     |\n|Breast Cancer  |4556     |\n|Prostate Cancer|2650     |\n|Asthma         |2309     |\n|Obesity        |2284     |\n+---------------+---------+\n\n"
     ]
    }
   ],
   "source": [
    "#Q3\n",
    "from pyspark.sql import SparkSession\n",
    "from pyspark.sql.functions import count, desc, col\n",
    "\n",
    "# Group by 'Conditions' column and count the occurrences\n",
    "top_conditions_df = clinical_df.filter(col(\"Conditions\") != \"\") \\\n",
    "    .groupBy(\"Conditions\") \\\n",
    "    .agg(count(\"*\").alias(\"Frequency\")) \\\n",
    "    .orderBy(desc(\"Frequency\")) \\\n",
    "    .limit(5)\n",
    "\n",
    "# Show the DataFrame\n",
    "top_conditions_df.show(truncate=False)\n"
   ]
  },
  {
   "cell_type": "code",
   "execution_count": 0,
   "metadata": {
    "application/vnd.databricks.v1+cell": {
     "cellMetadata": {
      "byteLimit": 2048000,
      "rowLimit": 10000
     },
     "inputWidgets": {},
     "nuid": "4827cbb0-ce5b-4afc-9797-6389beb39370",
     "showTitle": false,
     "title": ""
    }
   },
   "outputs": [
    {
     "output_type": "stream",
     "name": "stdout",
     "output_type": "stream",
     "text": [
      "+--------------------+-----------+\n|             Sponsor|TotalTrials|\n+--------------------+-----------+\n|     GlaxoSmithKline|       3482|\n|National Cancer I...|       3410|\n|   Assiut University|       3335|\n|              Pfizer|       3045|\n|         AstraZeneca|       3024|\n|    Cairo University|       3023|\n|Assistance Publiq...|       2951|\n|         Mayo Clinic|       2766|\n|M.D. Anderson Can...|       2702|\n|Novartis Pharmace...|       2393|\n+--------------------+-----------+\n\n"
     ]
    }
   ],
   "source": [
    "#Q4\n",
    "from pyspark.sql import SparkSession\n",
    "from pyspark.sql.functions import count, desc\n",
    "\n",
    "# Join the clinical_df with PHARMA_RDD_Clean\n",
    "joined_df = clinical_df.join(pharma_df, clinical_df['Sponsor'] == pharma_df['Parent_Company'], \"left_outer\")\n",
    "\n",
    "# Filter out rows where Parent_Company is null (non-pharmaceutical companies)\n",
    "filtered_df = joined_df.filter(joined_df['Parent_Company'].isNull())\n",
    "\n",
    "# Count the number of clinical trials sponsored by each sponsor\n",
    "sponsors_count = filtered_df.groupBy('Sponsor').agg(count('*').alias('TotalTrials'))\n",
    "\n",
    "# Get the top 10 sponsors by the number of trials\n",
    "top_10_sponsors = sponsors_count.orderBy(desc('TotalTrials')).limit(10)\n",
    "\n",
    "# Show the result\n",
    "top_10_sponsors.show()\n"
   ]
  },
  {
   "cell_type": "code",
   "execution_count": 0,
   "metadata": {
    "application/vnd.databricks.v1+cell": {
     "cellMetadata": {
      "byteLimit": 2048000,
      "rowLimit": 10000
     },
     "inputWidgets": {},
     "nuid": "3c856829-b1d7-42e4-9ea5-2b6e3fa84f13",
     "showTitle": false,
     "title": ""
    }
   },
   "outputs": [
    {
     "output_type": "stream",
     "name": "stdout",
     "output_type": "stream",
     "text": [
      "+----------+-----------------+\n|month_name|completed_studies|\n+----------+-----------------+\n|       Jan|             1494|\n|       Feb|             1272|\n|       Mar|             1552|\n|       Apr|             1324|\n|       May|             1415|\n|       Jun|             1619|\n|       Jul|             1360|\n|       Aug|             1230|\n|      Sept|             1152|\n|       Oct|             1058|\n|       Nov|              909|\n|       Dec|             1082|\n+----------+-----------------+\n\n"
     ]
    }
   ],
   "source": [
    "#Q5\n",
    "\n",
    "from pyspark.sql import SparkSession\n",
    "from pyspark.sql.functions import col, count, expr, lpad\n",
    "\n",
    "\n",
    "# Define a DataFrame for month mapping\n",
    "month_mapping_data = [\n",
    "    ('01', 'Jan'),\n",
    "    ('02', 'Feb'),\n",
    "    ('03', 'Mar'),\n",
    "    ('04', 'Apr'),\n",
    "    ('05', 'May'),\n",
    "    ('06', 'Jun'),\n",
    "    ('07', 'Jul'),\n",
    "    ('08', 'Aug'),\n",
    "    ('09', 'Sept'),\n",
    "    ('10', 'Oct'),\n",
    "    ('11', 'Nov'),\n",
    "    ('12', 'Dec')\n",
    "]\n",
    "month_mapping_df = spark.createDataFrame(month_mapping_data, [\"month_num\", \"month_name\"])\n",
    "\n",
    "# Define completed studies DataFrame\n",
    "completed_studies_df = clinical_df \\\n",
    "    .filter((col(\"Completion\").substr(1, 4) == \"2023\") & (col(\"Status\").isin(\"COMPLETED\", \"Completed\"))) \\\n",
    "    .groupBy(col(\"Completion\").substr(6, 2).alias(\"completion_month\")) \\\n",
    "    .agg(count(\"*\").alias(\"study_count\"))\n",
    "\n",
    "# Map month abbreviations to full names\n",
    "mapped_months_df = month_mapping_df \\\n",
    "    .join(completed_studies_df, month_mapping_df[\"month_num\"] == lpad(completed_studies_df[\"completion_month\"], 2, '0'), \"left\") \\\n",
    "    .select(\"month_name\", expr(\"COALESCE(study_count, 0)\").alias(\"completed_studies\"))\n",
    "\n",
    "# Order the DataFrame by month\n",
    "result_df = mapped_months_df.orderBy(\n",
    "    expr(\"\"\"\n",
    "        CASE month_name\n",
    "            WHEN 'Jan' THEN 1\n",
    "            WHEN 'Feb' THEN 2\n",
    "            WHEN 'Mar' THEN 3\n",
    "            WHEN 'Apr' THEN 4\n",
    "            WHEN 'May' THEN 5\n",
    "            WHEN 'Jun' THEN 6\n",
    "            WHEN 'Jul' THEN 7\n",
    "            WHEN 'Aug' THEN 8\n",
    "            WHEN 'Sept' THEN 9\n",
    "            WHEN 'Oct' THEN 10\n",
    "            WHEN 'Nov' THEN 11\n",
    "            WHEN 'Dec' THEN 12\n",
    "        END\n",
    "    \"\"\")\n",
    ")\n",
    "\n",
    "# Show the result\n",
    "result_df.show()\n"
   ]
  },
  {
   "cell_type": "code",
   "execution_count": 0,
   "metadata": {
    "application/vnd.databricks.v1+cell": {
     "cellMetadata": {
      "byteLimit": 2048000,
      "rowLimit": 10000
     },
     "inputWidgets": {},
     "nuid": "046642c4-f0b5-4178-a396-22767abc09a0",
     "showTitle": false,
     "title": ""
    }
   },
   "outputs": [
    {
     "output_type": "display_data",
     "data": {
      "image/png": "[encoded data removed]"
     },
     "metadata": {
      "application/vnd.databricks.v1+output": {
       "addedWidgets": {},
       "arguments": {},
       "data": "data:image/png;base64,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\n",
       "datasetInfos": [],
       "metadata": {},
       "removedWidgets": [],
       "type": "image"
      }
     },
     "output_type": "display_data"
    }
   ],
   "source": [
    "\n",
    "import matplotlib.pyplot as plt\n",
    "\n",
    "# Data\n",
    "months = [\"Jan\", \"Feb\", \"Mar\", \"Apr\", \"May\", \"Jun\", \"Jul\", \"Aug\", \"Sept\", \"Oct\", \"Nov\", \"Dec\"]\n",
    "completed_studies = [1494, 1272, 1552, 1324, 1415, 1619, 1360, 1230, 1152, 1058, 909, 1082]\n",
    "\n",
    "# Create bar plot with visual distinction\n",
    "plt.figure(figsize=(10, 6))\n",
    "bars = plt.bar(months, completed_studies, color=['lightgreen'])\n",
    "plt.title('Number of Completed Studies in 2023')\n",
    "plt.xlabel('Month')\n",
    "plt.ylabel('Number of Completed Studies')\n",
    "plt.xticks(rotation=45)\n",
    "plt.grid(axis='y', linestyle='--', alpha=0.7)\n",
    "\n",
    "# Add data labels\n",
    "for bar in bars:\n",
    "    yval = bar.get_height()\n",
    "    plt.text(bar.get_x() + bar.get_width()/2, yval + 20, round(yval), ha='center', va='bottom')\n",
    "\n",
    "# Show plot\n",
    "plt.tight_layout()\n",
    "plt.show()"
   ]
  },
  {
   "cell_type": "code",
   "execution_count": 0,
   "metadata": {
    "application/vnd.databricks.v1+cell": {
     "cellMetadata": {
      "byteLimit": 2048000,
      "rowLimit": 10000
     },
     "inputWidgets": {},
     "nuid": "9f6dd2b1-400e-422e-94c0-d60551c3c4de",
     "showTitle": false,
     "title": ""
    }
   },
   "outputs": [
    {
     "output_type": "stream",
     "name": "stdout",
     "output_type": "stream",
     "text": [
      "+----------+------------------+\n|month_name|Studies_Recruiting|\n+----------+------------------+\n|       Jan|               238|\n|       Feb|               193|\n|       Mar|               368|\n|       Apr|               330|\n|       May|               396|\n|       Jun|               667|\n|       Jul|               511|\n|       Aug|               552|\n|      Sept|               680|\n|       Oct|               666|\n|       Nov|               552|\n|       Dec|              3761|\n+----------+------------------+\n\n"
     ]
    }
   ],
   "source": [
    "#FURTHER ANALYSIS RECRUITING STUDY \n",
    "from pyspark.sql import SparkSession\n",
    "from pyspark.sql.functions import col, count, expr, lpad\n",
    "month_mapping_data = [\n",
    "    ('01', 'Jan'),\n",
    "    ('02', 'Feb'),\n",
    "    ('03', 'Mar'),\n",
    "    ('04', 'Apr'),\n",
    "    ('05', 'May'),\n",
    "    ('06', 'Jun'),\n",
    "    ('07', 'Jul'),\n",
    "    ('08', 'Aug'),\n",
    "    ('09', 'Sept'),\n",
    "    ('10', 'Oct'),\n",
    "    ('11', 'Nov'),\n",
    "    ('12', 'Dec')\n",
    "]\n",
    "month_mapping_df = spark.createDataFrame(month_mapping_data, [\"month_num\", \"month_name\"])\n",
    "completed_studies_df = clinical_df \\\n",
    "    .filter((col(\"Completion\").substr(1, 4) == \"2023\") & (col(\"Status\").isin(\"RECRUITING\", \"Recruiting\"))) \\\n",
    "    .groupBy(col(\"Completion\").substr(6, 2).alias(\"completion_month\")) \\\n",
    "    .agg(count(\"*\").alias(\"study_count\"))\n",
    "\n",
    "mapped_months_df = month_mapping_df \\\n",
    "    .join(completed_studies_df, month_mapping_df[\"month_num\"] == lpad(completed_studies_df[\"completion_month\"], 2, '0'), \"left\") \\\n",
    "    .select(\"month_name\", expr(\"COALESCE(study_count, 0)\").alias(\"Studies_Recruiting\"))\n",
    "\n",
    "result_df = mapped_months_df.orderBy(\n",
    "    expr(\"\"\"\n",
    "        CASE month_name\n",
    "            WHEN 'Jan' THEN 1\n",
    "            WHEN 'Feb' THEN 2\n",
    "            WHEN 'Mar' THEN 3\n",
    "            WHEN 'Apr' THEN 4\n",
    "            WHEN 'May' THEN 5\n",
    "            WHEN 'Jun' THEN 6\n",
    "            WHEN 'Jul' THEN 7\n",
    "            WHEN 'Aug' THEN 8\n",
    "            WHEN 'Sept' THEN 9\n",
    "            WHEN 'Oct' THEN 10\n",
    "            WHEN 'Nov' THEN 11\n",
    "            WHEN 'Dec' THEN 12\n",
    "        END\n",
    "    \"\"\")\n",
    ")\n",
    "result_df.show()\n"
   ]
  },
  {
   "cell_type": "code",
   "execution_count": 0,
   "metadata": {
    "application/vnd.databricks.v1+cell": {
     "cellMetadata": {
      "byteLimit": 2048000,
      "rowLimit": 10000
     },
     "inputWidgets": {},
     "nuid": "bcb382eb-1ab2-489b-ba87-fa5933efd101",
     "showTitle": false,
     "title": ""
    }
   },
   "outputs": [
    {
     "output_type": "display_data",
     "data": {
      "image/png": "[encoded data removed]"
     },
     "metadata": {
      "application/vnd.databricks.v1+output": {
       "addedWidgets": {},
       "arguments": {},
       "data": "data:image/png;base64,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\n",
       "datasetInfos": [],
       "metadata": {},
       "removedWidgets": [],
       "type": "image"
      }
     },
     "output_type": "display_data"
    }
   ],
   "source": [
    "import matplotlib.pyplot as plt\n",
    "\n",
    "# Convert Spark DataFrame to Pandas DataFrame\n",
    "result_pandas_df = result_df.toPandas()\n",
    "\n",
    "# Plotting the results\n",
    "plt.figure(figsize=(10, 6))\n",
    "plt.bar(result_pandas_df['month_name'], result_pandas_df['Studies_Recruiting'], color='skyblue')\n",
    "plt.xlabel('Month')\n",
    "plt.ylabel('Number of Studies Recruiting')\n",
    "plt.title('Number of Studies Recruiting in Each Month of 2023')\n",
    "plt.xticks(rotation=45)\n",
    "plt.grid(axis='y', linestyle='--', alpha=0.7)\n",
    "plt.show()\n"
   ]
  },
  {
   "cell_type": "code",
   "execution_count": 0,
   "metadata": {
    "application/vnd.databricks.v1+cell": {
     "cellMetadata": {
      "byteLimit": 2048000,
      "rowLimit": 10000
     },
     "inputWidgets": {},
     "nuid": "8e44b740-be73-4cd9-99d1-d2c4699c3edf",
     "showTitle": false,
     "title": ""
    }
   },
   "outputs": [
    {
     "output_type": "stream",
     "name": "stdout",
     "output_type": "stream",
     "text": [
      "+----------+--------------------------+\n|month_name|Not_Yet_Recruiting_Studies|\n+----------+--------------------------+\n|       Jan|                        70|\n|       Feb|                        84|\n|       Mar|                       119|\n|       Apr|                       121|\n|       May|                       127|\n|       Jun|                       182|\n|       Jul|                       162|\n|       Aug|                       164|\n|      Sept|                       214|\n|       Oct|                       191|\n|       Nov|                       170|\n|       Dec|                       714|\n+----------+--------------------------+\n\n"
     ]
    }
   ],
   "source": [
    "#FURTHER ANALYSIS NOT YET RECRUITING\n",
    "from pyspark.sql import SparkSession\n",
    "from pyspark.sql.functions import col, count, expr, lpad\n",
    "month_mapping_data = [\n",
    "    ('01', 'Jan'),\n",
    "    ('02', 'Feb'),\n",
    "    ('03', 'Mar'),\n",
    "    ('04', 'Apr'),\n",
    "    ('05', 'May'),\n",
    "    ('06', 'Jun'),\n",
    "    ('07', 'Jul'),\n",
    "    ('08', 'Aug'),\n",
    "    ('09', 'Sept'),\n",
    "    ('10', 'Oct'),\n",
    "    ('11', 'Nov'),\n",
    "    ('12', 'Dec')\n",
    "]\n",
    "month_mapping_df = spark.createDataFrame(month_mapping_data, [\"month_num\", \"month_name\"])\n",
    "completed_studies_df = clinical_df \\\n",
    "    .filter((col(\"Completion\").substr(1, 4) == \"2023\") & (col(\"Status\").isin(\"NOT_YET_RECRUITING\", \"Not_YetRecruiting\"))) \\\n",
    "    .groupBy(col(\"Completion\").substr(6, 2).alias(\"completion_month\")) \\\n",
    "    .agg(count(\"*\").alias(\"study_count\"))\n",
    "\n",
    "mapped_months_df = month_mapping_df \\\n",
    "    .join(completed_studies_df, month_mapping_df[\"month_num\"] == lpad(completed_studies_df[\"completion_month\"], 2, '0'), \"left\") \\\n",
    "    .select(\"month_name\", expr(\"COALESCE(study_count, 0)\").alias(\"Not_Yet_Recruiting_Studies\"))\n",
    "\n",
    "result_df = mapped_months_df.orderBy(\n",
    "    expr(\"\"\"\n",
    "        CASE month_name\n",
    "            WHEN 'Jan' THEN 1\n",
    "            WHEN 'Feb' THEN 2\n",
    "            WHEN 'Mar' THEN 3\n",
    "            WHEN 'Apr' THEN 4\n",
    "            WHEN 'May' THEN 5\n",
    "            WHEN 'Jun' THEN 6\n",
    "            WHEN 'Jul' THEN 7\n",
    "            WHEN 'Aug' THEN 8\n",
    "            WHEN 'Sept' THEN 9\n",
    "            WHEN 'Oct' THEN 10\n",
    "            WHEN 'Nov' THEN 11\n",
    "            WHEN 'Dec' THEN 12\n",
    "        END\n",
    "    \"\"\")\n",
    ")\n",
    "result_df.show()\n"
   ]
  },
  {
   "cell_type": "code",
   "execution_count": 0,
   "metadata": {
    "application/vnd.databricks.v1+cell": {
     "cellMetadata": {
      "byteLimit": 2048000,
      "rowLimit": 10000
     },
     "inputWidgets": {},
     "nuid": "923489c7-95a8-4e7e-a437-8f5223757a5c",
     "showTitle": false,
     "title": ""
    }
   },
   "outputs": [
    {
     "output_type": "stream",
     "name": "stdout",
     "output_type": "stream",
     "text": [
      "+----------+------------------+\n|month_name|TERMINATED STUDIES|\n+----------+------------------+\n|       Jan|               150|\n|       Feb|               146|\n|       Mar|               164|\n|       Apr|               118|\n|       May|               142|\n|       Jun|               127|\n|       Jul|               115|\n|       Aug|               114|\n|      Sept|               103|\n|       Oct|                99|\n|       Nov|                99|\n|       Dec|                83|\n+----------+------------------+\n\n"
     ]
    }
   ],
   "source": [
    "#FURTHER ANALYSIS TERMINATED STUDIES\n",
    "from pyspark.sql import SparkSession\n",
    "from pyspark.sql.functions import col, count, expr, lpad\n",
    "month_mapping_data = [\n",
    "    ('01', 'Jan'),\n",
    "    ('02', 'Feb'),\n",
    "    ('03', 'Mar'),\n",
    "    ('04', 'Apr'),\n",
    "    ('05', 'May'),\n",
    "    ('06', 'Jun'),\n",
    "    ('07', 'Jul'),\n",
    "    ('08', 'Aug'),\n",
    "    ('09', 'Sept'),\n",
    "    ('10', 'Oct'),\n",
    "    ('11', 'Nov'),\n",
    "    ('12', 'Dec')\n",
    "]\n",
    "month_mapping_df = spark.createDataFrame(month_mapping_data, [\"month_num\", \"month_name\"])\n",
    "completed_studies_df = clinical_df \\\n",
    "    .filter((col(\"Completion\").substr(1, 4) == \"2023\") & (col(\"Status\").isin(\"TERMINATED\", \"Terminated\"))) \\\n",
    "    .groupBy(col(\"Completion\").substr(6, 2).alias(\"completion_month\")) \\\n",
    "    .agg(count(\"*\").alias(\"study_count\"))\n",
    "\n",
    "mapped_months_df = month_mapping_df \\\n",
    "    .join(completed_studies_df, month_mapping_df[\"month_num\"] == lpad(completed_studies_df[\"completion_month\"], 2, '0'), \"left\") \\\n",
    "    .select(\"month_name\", expr(\"COALESCE(study_count, 0)\").alias(\"TERMINATED STUDIES\"))\n",
    "\n",
    "result_df = mapped_months_df.orderBy(\n",
    "    expr(\"\"\"\n",
    "        CASE month_name\n",
    "            WHEN 'Jan' THEN 1\n",
    "            WHEN 'Feb' THEN 2\n",
    "            WHEN 'Mar' THEN 3\n",
    "            WHEN 'Apr' THEN 4\n",
    "            WHEN 'May' THEN 5\n",
    "            WHEN 'Jun' THEN 6\n",
    "            WHEN 'Jul' THEN 7\n",
    "            WHEN 'Aug' THEN 8\n",
    "            WHEN 'Sept' THEN 9\n",
    "            WHEN 'Oct' THEN 10\n",
    "            WHEN 'Nov' THEN 11\n",
    "            WHEN 'Dec' THEN 12\n",
    "        END\n",
    "    \"\"\")\n",
    ")\n",
    "result_df.show()\n"
   ]
  },
  {
   "cell_type": "code",
   "execution_count": 0,
   "metadata": {
    "application/vnd.databricks.v1+cell": {
     "cellMetadata": {},
     "inputWidgets": {},
     "nuid": "56d6f58d-87d7-4cf2-ab5b-95d679b2c3e0",
     "showTitle": false,
     "title": ""
    }
   },
   "outputs": [],
   "source": []
  }
 ],
 "metadata": {
  "application/vnd.databricks.v1+notebook": {
   "dashboards": [],
   "language": "python",
   "notebookMetadata": {
    "mostRecentlyExecutedCommandWithImplicitDF": {
     "commandId": 3443245760532552,
     "dataframes": [
      "_sqldf"
     ]
    },
    "pythonIndentUnit": 4
   },
   "notebookName": "Musa@00703721DTF",
   "widgets": {}
  }
 },
 "nbformat": 4,
 "nbformat_minor": 0
}
